{
  "cells": [
    {
      "cell_type": "markdown",
      "metadata": {
        "id": "UG23Og51_lWi"
      },
      "source": [
        "# Emotion recognition- RAVDESS dataset"
      ]
    },
    {
      "cell_type": "markdown",
      "metadata": {
        "id": "tP8Dj9Ok_lWm"
      },
      "source": [
        "### Plotting an example for a sound wave:"
      ]
    },
    {
      "cell_type": "code",
      "execution_count": null,
      "metadata": {
        "id": "V-SXyFJ9_lWm",
        "outputId": "c390768f-65f4-4251-d75a-62b4dbe2b524"
      },
      "outputs": [
        {
          "data": {
            "image/png": "[encoded data removed]",
            "text/plain": [
              "<Figure size 864x288 with 1 Axes>"
            ]
          },
          "metadata": {
            "needs_background": "light"
          },
          "output_type": "display_data"
        }
      ],
      "source": [
        "import matplotlib.pyplot as plt\n",
        "import os\n",
        "import librosa\n",
        "import librosa.display\n",
        "import numpy as np\n",
        "from tqdm.notebook import tqdm\n",
        "import glob\n",
        "\n",
        "data, sampling_rate = librosa.load('D://ITC//final_project//data//data//Actor_01//03-01-01-01-01-01-01.wav')\n",
        "plt.figure(figsize=(12, 4))\n",
        "librosa.display.waveplot(data, sr=sampling_rate)\n",
        "plt.show()"
      ]
    },
    {
      "cell_type": "markdown",
      "metadata": {
        "id": "0UfekbSE_lWn"
      },
      "source": [
        "### Reading the data"
      ]
    },
    {
      "cell_type": "code",
      "execution_count": null,
      "metadata": {
        "colab": {
          "referenced_widgets": [
            "4cee5215f2d3496586b8989d2c98e83f"
          ]
        },
        "id": "UePpaKr6_lWn",
        "outputId": "a7b0a38e-661d-4c19-f9e6-1e02f737fc95"
      },
      "outputs": [
        {
          "data": {
            "application/vnd.jupyter.widget-view+json": {
              "model_id": "4cee5215f2d3496586b8989d2c98e83f",
              "version_major": 2,
              "version_minor": 0
            },
            "text/plain": [
              "0it [00:00, ?it/s]"
            ]
          },
          "metadata": {},
          "output_type": "display_data"
        },
        {
          "name": "stderr",
          "output_type": "stream",
          "text": [
            "C:\\Users\\Talba\\anaconda3\\lib\\site-packages\\librosa\\core\\audio.py:162: UserWarning: PySoundFile failed. Trying audioread instead.\n",
            "  warnings.warn(\"PySoundFile failed. Trying audioread instead.\")\n"
          ]
        }
      ],
      "source": [
        "lst = []\n",
        "path = 'D://ITC//final_project//data'\n",
        "\n",
        "for root, dirs, files in tqdm(os.walk(path)):\n",
        "    for file in files:\n",
        "        try:\n",
        "            #Load librosa array, obtain mfcss, store the file and the mfcss information in a new array\n",
        "            X, sample_rate = librosa.load(os.path.join(root,file), res_type='kaiser_fast')\n",
        "            mfccs = np.mean(librosa.feature.mfcc(y=X, sr=sample_rate, n_mfcc=40).T,axis=0)\n",
        "            # This is because our predictor needs to start from 0 otherwise it will try to predict also 0.\n",
        "            file = int(file[7:8])\n",
        "            arr = mfccs, file\n",
        "            lst.append(arr)\n",
        "          # If the file is not valid, skip it\n",
        "        except ValueError:\n",
        "            continue"
      ]
    },
    {
      "cell_type": "code",
      "execution_count": null,
      "metadata": {
        "id": "7ukbkTGR_lWn"
      },
      "outputs": [],
      "source": [
        "X, y = zip(*lst)"
      ]
    },
    {
      "cell_type": "code",
      "execution_count": null,
      "metadata": {
        "id": "dUTm7Txa_lWn",
        "outputId": "ec40ea82-2898-480d-86e6-b7b2bfd6d95b"
      },
      "outputs": [
        {
          "data": {
            "text/plain": [
              "((2628, 40), (2628,))"
            ]
          },
          "execution_count": 7,
          "metadata": {},
          "output_type": "execute_result"
        }
      ],
      "source": [
        "X = np.asarray(X)\n",
        "y = np.asarray(y)\n",
        "\n",
        "X.shape, y.shape"
      ]
    },
    {
      "cell_type": "code",
      "execution_count": null,
      "metadata": {
        "id": "Eag0xOPO_lWo"
      },
      "outputs": [],
      "source": [
        "# import pickle\n",
        "\n",
        "# with open('d://ITC//final_project//x.pickle', 'wb') as f:\n",
        "#     pickle.dump(X, f)\n",
        "# with open('d://ITC//final_project//y.pickle', 'wb') as f:\n",
        "#     pickle.dump(y, f)"
      ]
    },
    {
      "cell_type": "code",
      "execution_count": null,
      "metadata": {
        "id": "15kDpKIl_lWo"
      },
      "outputs": [],
      "source": [
        "# import pickle\n",
        "\n",
        "# with open('d://ITC//final_project//x.pickle', 'rb') as f:\n",
        "#     X = pickle.load(f)\n",
        "# with open('d://ITC//final_project//y.pickle', 'rb') as f:\n",
        "#     y = pickle.load(f)"
      ]
    },
    {
      "cell_type": "code",
      "execution_count": null,
      "metadata": {
        "id": "GX4AkMhe_lWo",
        "outputId": "649b3452-81e5-4f81-973f-5a34298db3c4"
      },
      "outputs": [
        {
          "data": {
            "text/plain": [
              "{1, 2, 3, 4, 5, 6, 7, 8}"
            ]
          },
          "execution_count": 8,
          "metadata": {},
          "output_type": "execute_result"
        }
      ],
      "source": [
        "set(y)"
      ]
    },
    {
      "cell_type": "code",
      "execution_count": null,
      "metadata": {
        "id": "KvE0JBdv_lWo"
      },
      "outputs": [],
      "source": [
        "emotions = {1:'neutral', 2:'calm', 3:'happy', 4:'sad', 5:'happy', 6:'fearful', 7:'disgust', 8:'surprised'}"
      ]
    },
    {
      "cell_type": "code",
      "execution_count": null,
      "metadata": {
        "id": "0hAZ0yas_lWo",
        "outputId": "70b3fb57-b816-4306-8ccd-edeff16d4e6e"
      },
      "outputs": [
        {
          "data": {
            "image/png": "[encoded data removed]",
            "text/plain": [
              "<Figure size 432x288 with 1 Axes>"
            ]
          },
          "metadata": {
            "needs_background": "light"
          },
          "output_type": "display_data"
        }
      ],
      "source": [
        "import seaborn as sns\n",
        "\n",
        "plt.title('Distribution of target variable:')\n",
        "sns.countplot(y)\n",
        "plt.show()"
      ]
    },
    {
      "cell_type": "markdown",
      "metadata": {
        "id": "nwWqxW-s_lWp"
      },
      "source": [
        "### Spotting outliers:"
      ]
    },
    {
      "cell_type": "code",
      "execution_count": 1,
      "metadata": {
        "id": "_SRJ2mne_lWp"
      },
      "outputs": [],
      "source": [
        "for i in X_df:\n",
        "    Q1 = X_df[i].quantile(0.25)\n",
        "    Q3 = X_df[i].quantile(0.75)\n",
        "    IQR = Q3 - Q1\n",
        "    print(f'Outliers in {i}:')\n",
        "    print(np.array((X_df[i] < (Q1 - 1.5 * IQR)) |(X_df[i] > (Q3 + 1.5 * IQR))).nonzero())"
      ]
    },
    {
      "cell_type": "code",
      "execution_count": 2,
      "metadata": {
        "id": "eJVEn4Zx_lWp"
      },
      "outputs": [],
      "source": [
        "plt.figure(figsize=(30,40))\n",
        "for i,col in enumerate(X_df):\n",
        "    plt.title(i, fontsize=20)\n",
        "    plt.subplot(8,5,i+1)\n",
        "    X_df[[col]].boxplot(fontsize=20)\n",
        "plt.subplots_adjust(hspace=0.5, wspace=0.5)"
      ]
    },
    {
      "cell_type": "markdown",
      "metadata": {
        "id": "vu7tedOe_lWq"
      },
      "source": [
        "### outliers in these features-\n",
        "\n",
        "- 0- <-1000\n",
        "- 6- <-10\n",
        "- 10- >20\n",
        "- 12 >20\n",
        "- 25 >10\n",
        "- 26 >15\n"
      ]
    },
    {
      "cell_type": "markdown",
      "metadata": {
        "id": "tXHiwD5d_lWq"
      },
      "source": [
        "### replacing the outliers with median:"
      ]
    },
    {
      "cell_type": "code",
      "execution_count": null,
      "metadata": {
        "id": "Dy2_ni-L_lWq"
      },
      "outputs": [],
      "source": [
        "median = X_df.loc[X_df[0] > -1000, 0].median()\n",
        "X_df.loc[X_df[0] < -1000, 0] = np.nan\n",
        "X_df[0].fillna(median,inplace=True)\n",
        "\n",
        "median = X_df.loc[X_df[6] > -1000, 6].median()\n",
        "X_df.loc[X_df[6] < -1000, 6] = np.nan\n",
        "X_df[6].fillna(median,inplace=True)\n",
        "\n",
        "median = X_df.loc[X_df[10] > -1000, 10].median()\n",
        "X_df.loc[X_df[10] < -1000, 10] = np.nan\n",
        "X_df[10].fillna(median,inplace=True)\n",
        "\n",
        "median = X_df.loc[X_df[12] > -1000, 12].median()\n",
        "X_df.loc[X_df[12] < -1000,12] = np.nan\n",
        "X_df[12].fillna(median,inplace=True)\n",
        "\n",
        "median = X_df.loc[X_df[25] > -1000, 25].median()\n",
        "X_df.loc[X_df[25] < -1000, 25] = np.nan\n",
        "X_df[25].fillna(median,inplace=True)\n",
        "\n",
        "median = X_df.loc[X_df[26] > -1000, 26].median()\n",
        "X_df.loc[X_df[26] < -1000, 26] = np.nan\n",
        "X_df[26].fillna(median,inplace=True)"
      ]
    },
    {
      "cell_type": "markdown",
      "metadata": {
        "id": "gRdDrCsG_lWq"
      },
      "source": [
        "### At this point, we can perform a normal classification, using our mfccs coefficients as our features.\n",
        "\n",
        "### We'll start by running a Logistic regression model."
      ]
    },
    {
      "cell_type": "code",
      "execution_count": null,
      "metadata": {
        "id": "fuT1SS9f_lWr"
      },
      "outputs": [],
      "source": [
        "from sklearn.model_selection import train_test_split\n",
        "\n",
        "X_train, X_test, y_train, y_test = train_test_split(X, y, test_size=0.20, \\\n",
        "                                                    random_state=42)"
      ]
    },
    {
      "cell_type": "code",
      "execution_count": null,
      "metadata": {
        "id": "U2K8BOif_lWr",
        "outputId": "b2a0c5b6-be27-4c99-be67-8862a11bc068"
      },
      "outputs": [
        {
          "name": "stderr",
          "output_type": "stream",
          "text": [
            "C:\\Users\\Talba\\anaconda3\\lib\\site-packages\\sklearn\\linear_model\\_logistic.py:763: ConvergenceWarning: lbfgs failed to converge (status=1):\n",
            "STOP: TOTAL NO. of ITERATIONS REACHED LIMIT.\n",
            "\n",
            "Increase the number of iterations (max_iter) or scale the data as shown in:\n",
            "    https://scikit-learn.org/stable/modules/preprocessing.html\n",
            "Please also refer to the documentation for alternative solver options:\n",
            "    https://scikit-learn.org/stable/modules/linear_model.html#logistic-regression\n",
            "  n_iter_i = _check_optimize_result(\n"
          ]
        }
      ],
      "source": [
        "from sklearn.linear_model import LogisticRegression\n",
        "\n",
        "clf = LogisticRegression(max_iter=150).fit(X_train, y_train)\n",
        "y_pred = clf.predict(X_test)\n"
      ]
    },
    {
      "cell_type": "code",
      "execution_count": null,
      "metadata": {
        "id": "4rnxWarb_lWr",
        "outputId": "301a217b-fd54-4a3b-8cf2-417ff56b423b"
      },
      "outputs": [
        {
          "name": "stdout",
          "output_type": "stream",
          "text": [
            "              precision    recall  f1-score   support\n",
            "\n",
            "           1       0.73      0.40      0.52        40\n",
            "           2       0.46      0.51      0.48        81\n",
            "           3       0.54      0.56      0.55        85\n",
            "           4       0.46      0.56      0.50        73\n",
            "           5       0.60      0.70      0.65        79\n",
            "           6       0.64      0.62      0.63        90\n",
            "           7       0.47      0.38      0.42        39\n",
            "           8       0.40      0.26      0.31        39\n",
            "\n",
            "    accuracy                           0.54       526\n",
            "   macro avg       0.54      0.50      0.51       526\n",
            "weighted avg       0.54      0.54      0.53       526\n",
            "\n"
          ]
        }
      ],
      "source": [
        "from sklearn.metrics import classification_report\n",
        "\n",
        "print(classification_report(y_test, y_pred))"
      ]
    },
    {
      "cell_type": "markdown",
      "metadata": {
        "id": "piRk0_2Z_lWs"
      },
      "source": [
        "### Running RandomForest:"
      ]
    },
    {
      "cell_type": "code",
      "execution_count": null,
      "metadata": {
        "id": "Q7femqXT_lWs"
      },
      "outputs": [],
      "source": [
        "from sklearn.ensemble import RandomForestClassifier\n",
        "\n",
        "reg = RandomForestClassifier()\n",
        "reg.fit(X_train, y_train)\n",
        "y_pred2 = reg.predict(X_test)"
      ]
    },
    {
      "cell_type": "code",
      "execution_count": null,
      "metadata": {
        "id": "A-y93ep6_lWs",
        "outputId": "95d88d76-2bdd-442b-ff0b-8a4cc8a3f2be"
      },
      "outputs": [
        {
          "name": "stdout",
          "output_type": "stream",
          "text": [
            "              precision    recall  f1-score   support\n",
            "\n",
            "           1       0.90      0.65      0.75        40\n",
            "           2       0.64      0.89      0.75        81\n",
            "           3       0.78      0.61      0.68        85\n",
            "           4       0.66      0.73      0.69        73\n",
            "           5       0.79      0.75      0.77        79\n",
            "           6       0.80      0.76      0.78        90\n",
            "           7       0.74      0.59      0.66        39\n",
            "           8       0.45      0.54      0.49        39\n",
            "\n",
            "    accuracy                           0.71       526\n",
            "   macro avg       0.72      0.69      0.70       526\n",
            "weighted avg       0.73      0.71      0.71       526\n",
            "\n"
          ]
        }
      ],
      "source": [
        "print(classification_report(y_test, y_pred2))"
      ]
    },
    {
      "cell_type": "code",
      "execution_count": null,
      "metadata": {
        "id": "0k6ZYeDJ_lWs"
      },
      "outputs": [],
      "source": [
        "from sklearn.naive_bayes import GaussianNB\n",
        "\n",
        "gnb = GaussianNB()\n",
        "gnb.fit(X_train, y_train)\n",
        "y_pred3 = gnb.predict(X_test)"
      ]
    },
    {
      "cell_type": "code",
      "execution_count": null,
      "metadata": {
        "id": "0ODfuNBP_lWt",
        "outputId": "41609c11-281e-4d44-a0a5-b1e0d522a98a"
      },
      "outputs": [
        {
          "name": "stdout",
          "output_type": "stream",
          "text": [
            "              precision    recall  f1-score   support\n",
            "\n",
            "           1       0.45      0.38      0.41        40\n",
            "           2       0.60      0.40      0.48        81\n",
            "           3       0.61      0.40      0.48        85\n",
            "           4       0.45      0.29      0.35        73\n",
            "           5       0.68      0.49      0.57        79\n",
            "           6       0.60      0.34      0.44        90\n",
            "           7       0.20      0.62      0.30        39\n",
            "           8       0.24      0.64      0.34        39\n",
            "\n",
            "    accuracy                           0.42       526\n",
            "   macro avg       0.48      0.44      0.42       526\n",
            "weighted avg       0.52      0.42      0.44       526\n",
            "\n"
          ]
        }
      ],
      "source": [
        "print(classification_report(y_test, y_pred3))"
      ]
    },
    {
      "cell_type": "markdown",
      "metadata": {
        "id": "orKXpT0P_lWt"
      },
      "source": [
        "### trying KNN, and therefore scale the features before:"
      ]
    },
    {
      "cell_type": "code",
      "execution_count": null,
      "metadata": {
        "id": "G4Dsv-9A_lWt"
      },
      "outputs": [],
      "source": [
        "from sklearn.preprocessing import StandardScaler\n",
        "\n",
        "scaler = StandardScaler()\n",
        "scaler.fit(X_train)\n",
        "X_train_scale = scaler.transform(X_train)\n",
        "X_test_scale = scaler.transform(X_test)"
      ]
    },
    {
      "cell_type": "code",
      "execution_count": null,
      "metadata": {
        "id": "LIzCrKWq_lWt"
      },
      "outputs": [],
      "source": [
        "from sklearn.neighbors import KNeighborsClassifier\n",
        "\n",
        "knn = KNeighborsClassifier(n_neighbors=3)\n",
        "knn.fit(X_train_scale, y_train)\n",
        "y_pred4 = knn.predict(X_test_scale)"
      ]
    },
    {
      "cell_type": "code",
      "execution_count": null,
      "metadata": {
        "id": "ouMZvfH4_lWt",
        "outputId": "e20b4401-4bc1-4be4-8e6e-fa47786c681b"
      },
      "outputs": [
        {
          "name": "stdout",
          "output_type": "stream",
          "text": [
            "              precision    recall  f1-score   support\n",
            "\n",
            "           1       0.52      0.82      0.64        40\n",
            "           2       0.84      0.83      0.83        81\n",
            "           3       0.67      0.74      0.70        85\n",
            "           4       0.75      0.67      0.71        73\n",
            "           5       0.71      0.82      0.76        79\n",
            "           6       0.85      0.62      0.72        90\n",
            "           7       0.91      0.54      0.68        39\n",
            "           8       0.67      0.74      0.71        39\n",
            "\n",
            "    accuracy                           0.73       526\n",
            "   macro avg       0.74      0.72      0.72       526\n",
            "weighted avg       0.75      0.73      0.73       526\n",
            "\n"
          ]
        }
      ],
      "source": [
        "print(classification_report(y_test, y_pred4))"
      ]
    },
    {
      "cell_type": "markdown",
      "metadata": {
        "id": "tL9lP_00_lWv"
      },
      "source": [
        "### Running basic neural network:"
      ]
    },
    {
      "cell_type": "code",
      "execution_count": null,
      "metadata": {
        "id": "frcr416f_lWv",
        "outputId": "168de824-4b64-47a3-f9db-7b7658213c09"
      },
      "outputs": [
        {
          "data": {
            "text/plain": [
              "(2102, 40)"
            ]
          },
          "execution_count": 23,
          "metadata": {},
          "output_type": "execute_result"
        }
      ],
      "source": [
        "X_train.shape"
      ]
    },
    {
      "cell_type": "code",
      "execution_count": null,
      "metadata": {
        "id": "6KGkDR64_lWv"
      },
      "outputs": [],
      "source": [
        "from tensorflow.keras.models import Sequential\n",
        "from tensorflow.keras import layers\n",
        "from tensorflow.keras.layers import Dense\n",
        "\n",
        "\n",
        "model = Sequential(\n",
        "    [\n",
        "     layers.Dense(256, activation=\"sigmoid\", input_dim = 40),\n",
        "     layers.Dense(64, activation=\"relu\"),\n",
        "     layers.Dense(8, activation=\"softmax\")\n",
        "    ]\n",
        ")\n"
      ]
    },
    {
      "cell_type": "code",
      "execution_count": null,
      "metadata": {
        "id": "zHru_v5X_lWv",
        "outputId": "b832485f-bde6-46d3-c08e-f9af3d99845a"
      },
      "outputs": [
        {
          "data": {
            "text/plain": [
              "((None, 40), (None, 8))"
            ]
          },
          "execution_count": 25,
          "metadata": {},
          "output_type": "execute_result"
        }
      ],
      "source": [
        "model.input_shape, model.output_shape"
      ]
    },
    {
      "cell_type": "code",
      "execution_count": null,
      "metadata": {
        "id": "GUU2zpdj_lWw",
        "outputId": "d288a2b2-8d81-4642-ddb0-6c789f6e91ac"
      },
      "outputs": [
        {
          "name": "stdout",
          "output_type": "stream",
          "text": [
            "Model: \"sequential\"\n",
            "_________________________________________________________________\n",
            "Layer (type)                 Output Shape              Param #   \n",
            "=================================================================\n",
            "dense (Dense)                (None, 256)               10496     \n",
            "_________________________________________________________________\n",
            "dense_1 (Dense)              (None, 64)                16448     \n",
            "_________________________________________________________________\n",
            "dense_2 (Dense)              (None, 8)                 520       \n",
            "=================================================================\n",
            "Total params: 27,464\n",
            "Trainable params: 27,464\n",
            "Non-trainable params: 0\n",
            "_________________________________________________________________\n"
          ]
        }
      ],
      "source": [
        "model.summary()"
      ]
    },
    {
      "cell_type": "code",
      "execution_count": null,
      "metadata": {
        "id": "wc3Hmtp9_lWw"
      },
      "outputs": [],
      "source": [
        "y_train = y_train - 1\n",
        "y_test = y_test - 1"
      ]
    },
    {
      "cell_type": "code",
      "execution_count": null,
      "metadata": {
        "id": "KACNKX-U_lWw",
        "outputId": "8a588124-fb54-4ee4-b45a-3993b7755f2b"
      },
      "outputs": [
        {
          "data": {
            "text/plain": [
              "{0, 1, 2, 3, 4, 5, 6, 7}"
            ]
          },
          "execution_count": 29,
          "metadata": {},
          "output_type": "execute_result"
        }
      ],
      "source": [
        "set(y_train)"
      ]
    },
    {
      "cell_type": "code",
      "execution_count": null,
      "metadata": {
        "id": "0i8mpj_m_lWw",
        "outputId": "3b88890e-ff62-4012-8537-923b2179ac02"
      },
      "outputs": [
        {
          "name": "stdout",
          "output_type": "stream",
          "text": [
            "Epoch 1/500\n",
            "119/119 [==============================] - 1s 4ms/step - loss: 0.1197 - accuracy: 0.9522 - val_loss: 1.9800 - val_accuracy: 0.6351\n",
            "Epoch 2/500\n",
            "119/119 [==============================] - 0s 2ms/step - loss: 0.1426 - accuracy: 0.9417 - val_loss: 2.3756 - val_accuracy: 0.6445\n",
            "Epoch 3/500\n",
            "119/119 [==============================] - 0s 2ms/step - loss: 0.1718 - accuracy: 0.9327 - val_loss: 2.0302 - val_accuracy: 0.6635\n",
            "Epoch 4/500\n",
            "119/119 [==============================] - 0s 2ms/step - loss: 0.1593 - accuracy: 0.9455 - val_loss: 1.9600 - val_accuracy: 0.6919\n",
            "Epoch 5/500\n",
            "119/119 [==============================] - 0s 2ms/step - loss: 0.1340 - accuracy: 0.9492 - val_loss: 2.1258 - val_accuracy: 0.6209\n",
            "Epoch 6/500\n",
            "119/119 [==============================] - 0s 2ms/step - loss: 0.1308 - accuracy: 0.9475 - val_loss: 2.1504 - val_accuracy: 0.6351\n",
            "Epoch 7/500\n",
            "119/119 [==============================] - 0s 2ms/step - loss: 0.1712 - accuracy: 0.9375 - val_loss: 1.8861 - val_accuracy: 0.6540\n",
            "Epoch 8/500\n",
            "119/119 [==============================] - 0s 2ms/step - loss: 0.1491 - accuracy: 0.9503 - val_loss: 2.1908 - val_accuracy: 0.6161\n",
            "Epoch 9/500\n",
            "119/119 [==============================] - 0s 2ms/step - loss: 0.2688 - accuracy: 0.8999 - val_loss: 2.2688 - val_accuracy: 0.6209\n",
            "Epoch 10/500\n",
            "119/119 [==============================] - 0s 2ms/step - loss: 0.3061 - accuracy: 0.8982 - val_loss: 1.7913 - val_accuracy: 0.6682\n",
            "Epoch 11/500\n",
            "119/119 [==============================] - 0s 2ms/step - loss: 0.1711 - accuracy: 0.9398 - val_loss: 1.7664 - val_accuracy: 0.6682\n",
            "Epoch 12/500\n",
            "119/119 [==============================] - 0s 2ms/step - loss: 0.0905 - accuracy: 0.9645 - val_loss: 1.8468 - val_accuracy: 0.6682\n",
            "Epoch 13/500\n",
            "119/119 [==============================] - 0s 1ms/step - loss: 0.0864 - accuracy: 0.9659 - val_loss: 1.8263 - val_accuracy: 0.6682\n",
            "Epoch 14/500\n",
            "119/119 [==============================] - 0s 2ms/step - loss: 0.0810 - accuracy: 0.9694 - val_loss: 1.8359 - val_accuracy: 0.6730\n",
            "Epoch 15/500\n",
            "119/119 [==============================] - 0s 2ms/step - loss: 0.0694 - accuracy: 0.9752 - val_loss: 1.9748 - val_accuracy: 0.6825\n",
            "Epoch 16/500\n",
            "119/119 [==============================] - 0s 2ms/step - loss: 0.0819 - accuracy: 0.9676 - val_loss: 1.9747 - val_accuracy: 0.6682\n",
            "Epoch 17/500\n",
            "119/119 [==============================] - 0s 2ms/step - loss: 0.0849 - accuracy: 0.9649 - val_loss: 2.0607 - val_accuracy: 0.6635\n",
            "Epoch 18/500\n",
            "119/119 [==============================] - 0s 2ms/step - loss: 0.0996 - accuracy: 0.9597 - val_loss: 2.2538 - val_accuracy: 0.6114\n",
            "Epoch 19/500\n",
            "119/119 [==============================] - 0s 2ms/step - loss: 0.2885 - accuracy: 0.9079 - val_loss: 2.4802 - val_accuracy: 0.6066\n",
            "Epoch 20/500\n",
            "119/119 [==============================] - 0s 2ms/step - loss: 0.4769 - accuracy: 0.8379 - val_loss: 1.8551 - val_accuracy: 0.6066\n",
            "Epoch 21/500\n",
            "119/119 [==============================] - 0s 2ms/step - loss: 0.2121 - accuracy: 0.9201 - val_loss: 2.0530 - val_accuracy: 0.6161\n",
            "Epoch 22/500\n",
            "119/119 [==============================] - 0s 2ms/step - loss: 0.1737 - accuracy: 0.9287 - val_loss: 2.0086 - val_accuracy: 0.6825\n",
            "Epoch 23/500\n",
            "119/119 [==============================] - 0s 2ms/step - loss: 0.1095 - accuracy: 0.9623 - val_loss: 1.8014 - val_accuracy: 0.6682\n",
            "Epoch 24/500\n",
            "119/119 [==============================] - 0s 2ms/step - loss: 0.1005 - accuracy: 0.9672 - val_loss: 2.0221 - val_accuracy: 0.6682\n",
            "Epoch 25/500\n",
            "119/119 [==============================] - 0s 2ms/step - loss: 0.1132 - accuracy: 0.9617 - val_loss: 1.9897 - val_accuracy: 0.6730\n",
            "Epoch 26/500\n",
            "119/119 [==============================] - 0s 2ms/step - loss: 0.0894 - accuracy: 0.9666 - val_loss: 1.8507 - val_accuracy: 0.6825\n",
            "Epoch 27/500\n",
            "119/119 [==============================] - 0s 2ms/step - loss: 0.0862 - accuracy: 0.9700 - val_loss: 1.9935 - val_accuracy: 0.6777\n",
            "Epoch 28/500\n",
            "119/119 [==============================] - 0s 2ms/step - loss: 0.1033 - accuracy: 0.9637 - val_loss: 2.1046 - val_accuracy: 0.6682\n",
            "Epoch 29/500\n",
            "119/119 [==============================] - 0s 2ms/step - loss: 0.1246 - accuracy: 0.9499 - val_loss: 1.9830 - val_accuracy: 0.6540\n",
            "Epoch 30/500\n",
            "119/119 [==============================] - 0s 2ms/step - loss: 0.1112 - accuracy: 0.9583 - val_loss: 2.0872 - val_accuracy: 0.6540\n",
            "Epoch 31/500\n",
            "119/119 [==============================] - 0s 1ms/step - loss: 0.1351 - accuracy: 0.9518 - val_loss: 1.8926 - val_accuracy: 0.6540\n",
            "Epoch 32/500\n",
            "119/119 [==============================] - 0s 2ms/step - loss: 0.3863 - accuracy: 0.8847 - val_loss: 2.2319 - val_accuracy: 0.6019\n",
            "Epoch 33/500\n",
            "119/119 [==============================] - 0s 2ms/step - loss: 0.5679 - accuracy: 0.8175 - val_loss: 2.0448 - val_accuracy: 0.6256\n",
            "Epoch 34/500\n",
            "119/119 [==============================] - 0s 2ms/step - loss: 0.1509 - accuracy: 0.9340 - val_loss: 2.0897 - val_accuracy: 0.6256\n",
            "Epoch 35/500\n",
            "119/119 [==============================] - 0s 2ms/step - loss: 0.1252 - accuracy: 0.9567 - val_loss: 1.9932 - val_accuracy: 0.6256\n",
            "Epoch 36/500\n",
            "119/119 [==============================] - 0s 2ms/step - loss: 0.1001 - accuracy: 0.9653 - val_loss: 2.1245 - val_accuracy: 0.6209\n",
            "Epoch 37/500\n",
            "119/119 [==============================] - 0s 1ms/step - loss: 0.1186 - accuracy: 0.9554 - val_loss: 2.0053 - val_accuracy: 0.6303\n",
            "Epoch 38/500\n",
            "119/119 [==============================] - 0s 1ms/step - loss: 0.0862 - accuracy: 0.9668 - val_loss: 2.0833 - val_accuracy: 0.6398\n",
            "Epoch 39/500\n",
            "119/119 [==============================] - 0s 2ms/step - loss: 0.0814 - accuracy: 0.9707 - val_loss: 2.1594 - val_accuracy: 0.6398\n",
            "Epoch 40/500\n",
            "119/119 [==============================] - 0s 2ms/step - loss: 0.0974 - accuracy: 0.9630 - val_loss: 2.0393 - val_accuracy: 0.6493\n",
            "Epoch 41/500\n",
            "119/119 [==============================] - 0s 1ms/step - loss: 0.0885 - accuracy: 0.9719 - val_loss: 2.2002 - val_accuracy: 0.5924\n",
            "Epoch 42/500\n",
            "119/119 [==============================] - 0s 2ms/step - loss: 0.2741 - accuracy: 0.8934 - val_loss: 2.1362 - val_accuracy: 0.6161\n",
            "Epoch 43/500\n",
            "119/119 [==============================] - 0s 2ms/step - loss: 0.3489 - accuracy: 0.8833 - val_loss: 2.0276 - val_accuracy: 0.6161\n",
            "Epoch 44/500\n",
            "119/119 [==============================] - 0s 2ms/step - loss: 0.1646 - accuracy: 0.9449 - val_loss: 1.9661 - val_accuracy: 0.6445\n",
            "Epoch 45/500\n",
            "119/119 [==============================] - 0s 2ms/step - loss: 0.1337 - accuracy: 0.9547 - val_loss: 1.9857 - val_accuracy: 0.6398\n",
            "Epoch 46/500\n",
            "119/119 [==============================] - 0s 1ms/step - loss: 0.1077 - accuracy: 0.9630 - val_loss: 2.1011 - val_accuracy: 0.6682\n",
            "Epoch 47/500\n",
            "119/119 [==============================] - 0s 2ms/step - loss: 0.1363 - accuracy: 0.9496 - val_loss: 1.9623 - val_accuracy: 0.6872\n",
            "Epoch 48/500\n",
            "119/119 [==============================] - 0s 1ms/step - loss: 0.1387 - accuracy: 0.9486 - val_loss: 1.9554 - val_accuracy: 0.6635\n",
            "Epoch 49/500\n",
            "119/119 [==============================] - 0s 2ms/step - loss: 0.0997 - accuracy: 0.9647 - val_loss: 2.0032 - val_accuracy: 0.6588\n",
            "Epoch 50/500\n",
            "119/119 [==============================] - 0s 2ms/step - loss: 0.0834 - accuracy: 0.9678 - val_loss: 2.0197 - val_accuracy: 0.6682\n",
            "Epoch 51/500\n",
            "119/119 [==============================] - 0s 2ms/step - loss: 0.0790 - accuracy: 0.9721 - val_loss: 2.0086 - val_accuracy: 0.6635\n",
            "Epoch 52/500\n",
            "119/119 [==============================] - 0s 1ms/step - loss: 0.0797 - accuracy: 0.9671 - val_loss: 2.0497 - val_accuracy: 0.6588\n",
            "Epoch 53/500\n",
            "119/119 [==============================] - 0s 2ms/step - loss: 0.0699 - accuracy: 0.9717 - val_loss: 2.1667 - val_accuracy: 0.6398\n",
            "Epoch 54/500\n",
            "119/119 [==============================] - 0s 1ms/step - loss: 0.1106 - accuracy: 0.9612 - val_loss: 2.1579 - val_accuracy: 0.6303\n",
            "Epoch 55/500\n",
            "119/119 [==============================] - 0s 2ms/step - loss: 0.5019 - accuracy: 0.8464 - val_loss: 1.5482 - val_accuracy: 0.5972\n",
            "Epoch 56/500\n",
            "119/119 [==============================] - 0s 1ms/step - loss: 0.4310 - accuracy: 0.8516 - val_loss: 2.0228 - val_accuracy: 0.6114\n",
            "Epoch 57/500\n",
            "119/119 [==============================] - 0s 2ms/step - loss: 0.1655 - accuracy: 0.9454 - val_loss: 1.9026 - val_accuracy: 0.6351\n",
            "Epoch 58/500\n",
            "119/119 [==============================] - 0s 1ms/step - loss: 0.1531 - accuracy: 0.9433 - val_loss: 1.9176 - val_accuracy: 0.6635\n",
            "Epoch 59/500\n",
            "119/119 [==============================] - 0s 2ms/step - loss: 0.1198 - accuracy: 0.9564 - val_loss: 1.8905 - val_accuracy: 0.6682\n",
            "Epoch 60/500\n",
            "119/119 [==============================] - 0s 2ms/step - loss: 0.0950 - accuracy: 0.9629 - val_loss: 1.9330 - val_accuracy: 0.6256\n",
            "Epoch 61/500\n",
            "119/119 [==============================] - 0s 2ms/step - loss: 0.0926 - accuracy: 0.9621 - val_loss: 1.9344 - val_accuracy: 0.6635\n",
            "Epoch 62/500\n",
            "119/119 [==============================] - 0s 2ms/step - loss: 0.0857 - accuracy: 0.9666 - val_loss: 2.0339 - val_accuracy: 0.6398\n",
            "Epoch 63/500\n",
            "119/119 [==============================] - 0s 2ms/step - loss: 0.1402 - accuracy: 0.9519 - val_loss: 2.5092 - val_accuracy: 0.5829\n",
            "Epoch 64/500\n",
            "119/119 [==============================] - 0s 2ms/step - loss: 0.4790 - accuracy: 0.8453 - val_loss: 1.8457 - val_accuracy: 0.6682\n",
            "Epoch 65/500\n",
            "119/119 [==============================] - 0s 2ms/step - loss: 0.3310 - accuracy: 0.8837 - val_loss: 1.8113 - val_accuracy: 0.6682\n",
            "Epoch 66/500\n",
            "119/119 [==============================] - 0s 2ms/step - loss: 0.1769 - accuracy: 0.9305 - val_loss: 1.8687 - val_accuracy: 0.6445\n",
            "Epoch 67/500\n",
            "119/119 [==============================] - 0s 2ms/step - loss: 0.1320 - accuracy: 0.9546 - val_loss: 1.9361 - val_accuracy: 0.6682\n",
            "Epoch 68/500\n",
            "119/119 [==============================] - 0s 2ms/step - loss: 0.1440 - accuracy: 0.9437 - val_loss: 1.8578 - val_accuracy: 0.6682\n",
            "Epoch 69/500\n",
            "119/119 [==============================] - 0s 2ms/step - loss: 0.0840 - accuracy: 0.9719 - val_loss: 1.8731 - val_accuracy: 0.6635\n",
            "Epoch 70/500\n",
            "119/119 [==============================] - 0s 2ms/step - loss: 0.0955 - accuracy: 0.9653 - val_loss: 1.9659 - val_accuracy: 0.6825\n",
            "Epoch 71/500\n",
            "119/119 [==============================] - 0s 2ms/step - loss: 0.1018 - accuracy: 0.9626 - val_loss: 1.9578 - val_accuracy: 0.6825\n",
            "Epoch 72/500\n",
            "119/119 [==============================] - 0s 1ms/step - loss: 0.0947 - accuracy: 0.9633 - val_loss: 1.9571 - val_accuracy: 0.6682\n",
            "Epoch 73/500\n",
            "119/119 [==============================] - 0s 2ms/step - loss: 0.0852 - accuracy: 0.9705 - val_loss: 2.1051 - val_accuracy: 0.6303\n",
            "Epoch 74/500\n",
            "119/119 [==============================] - 0s 2ms/step - loss: 0.2664 - accuracy: 0.9047 - val_loss: 1.9009 - val_accuracy: 0.6398\n",
            "Epoch 75/500\n",
            "119/119 [==============================] - 0s 2ms/step - loss: 0.3445 - accuracy: 0.8730 - val_loss: 1.8611 - val_accuracy: 0.6540\n",
            "Epoch 76/500\n",
            "119/119 [==============================] - 0s 2ms/step - loss: 0.1816 - accuracy: 0.9478 - val_loss: 1.9199 - val_accuracy: 0.6730\n",
            "Epoch 77/500\n",
            "119/119 [==============================] - 0s 2ms/step - loss: 0.1001 - accuracy: 0.9672 - val_loss: 2.0037 - val_accuracy: 0.6493\n",
            "Epoch 78/500\n",
            "119/119 [==============================] - 0s 2ms/step - loss: 0.1031 - accuracy: 0.9611 - val_loss: 2.0322 - val_accuracy: 0.6445\n",
            "Epoch 79/500\n",
            "119/119 [==============================] - 0s 2ms/step - loss: 0.0990 - accuracy: 0.9627 - val_loss: 2.1718 - val_accuracy: 0.6493\n",
            "Epoch 80/500\n",
            "119/119 [==============================] - 0s 2ms/step - loss: 0.0790 - accuracy: 0.9754 - val_loss: 2.0262 - val_accuracy: 0.6540\n",
            "Epoch 81/500\n",
            "119/119 [==============================] - 0s 2ms/step - loss: 0.0963 - accuracy: 0.9649 - val_loss: 2.0417 - val_accuracy: 0.6540\n",
            "Epoch 82/500\n",
            "119/119 [==============================] - 0s 2ms/step - loss: 0.0908 - accuracy: 0.9648 - val_loss: 2.0633 - val_accuracy: 0.6635\n",
            "Epoch 83/500\n",
            "119/119 [==============================] - 0s 1ms/step - loss: 0.1920 - accuracy: 0.9282 - val_loss: 2.2883 - val_accuracy: 0.6066\n",
            "Epoch 84/500\n",
            "119/119 [==============================] - 0s 2ms/step - loss: 0.4494 - accuracy: 0.8623 - val_loss: 1.6632 - val_accuracy: 0.6445\n",
            "Epoch 85/500\n",
            "119/119 [==============================] - 0s 2ms/step - loss: 0.2114 - accuracy: 0.9172 - val_loss: 1.8358 - val_accuracy: 0.6682\n",
            "Epoch 86/500\n",
            "119/119 [==============================] - 0s 2ms/step - loss: 0.1312 - accuracy: 0.9512 - val_loss: 1.9622 - val_accuracy: 0.6730\n",
            "Epoch 87/500\n",
            "119/119 [==============================] - 0s 2ms/step - loss: 0.1391 - accuracy: 0.9436 - val_loss: 1.9179 - val_accuracy: 0.6635\n",
            "Epoch 88/500\n",
            "119/119 [==============================] - 0s 2ms/step - loss: 0.1445 - accuracy: 0.9423 - val_loss: 2.2165 - val_accuracy: 0.6161\n",
            "Epoch 89/500\n",
            "119/119 [==============================] - 0s 2ms/step - loss: 0.1401 - accuracy: 0.9417 - val_loss: 2.0175 - val_accuracy: 0.6540\n",
            "Epoch 90/500\n",
            "119/119 [==============================] - 0s 2ms/step - loss: 0.1081 - accuracy: 0.9617 - val_loss: 2.2809 - val_accuracy: 0.6398\n",
            "Epoch 91/500\n",
            "119/119 [==============================] - 0s 2ms/step - loss: 0.1815 - accuracy: 0.9343 - val_loss: 2.0364 - val_accuracy: 0.6303\n",
            "Epoch 92/500\n",
            "119/119 [==============================] - 0s 2ms/step - loss: 0.1324 - accuracy: 0.9407 - val_loss: 2.0956 - val_accuracy: 0.6303\n",
            "Epoch 93/500\n",
            "119/119 [==============================] - 0s 2ms/step - loss: 0.1257 - accuracy: 0.9511 - val_loss: 2.0640 - val_accuracy: 0.6303\n",
            "Epoch 94/500\n",
            "119/119 [==============================] - 0s 2ms/step - loss: 0.0934 - accuracy: 0.9657 - val_loss: 1.9857 - val_accuracy: 0.6682\n",
            "Epoch 95/500\n",
            "119/119 [==============================] - 0s 2ms/step - loss: 0.0787 - accuracy: 0.9698 - val_loss: 1.9993 - val_accuracy: 0.6682\n",
            "Epoch 96/500\n",
            "119/119 [==============================] - 0s 2ms/step - loss: 0.0793 - accuracy: 0.9696 - val_loss: 1.9390 - val_accuracy: 0.6540\n",
            "Epoch 97/500\n",
            "119/119 [==============================] - 0s 2ms/step - loss: 0.0956 - accuracy: 0.9614 - val_loss: 2.0956 - val_accuracy: 0.6540\n",
            "Epoch 98/500\n",
            "119/119 [==============================] - 0s 2ms/step - loss: 0.0914 - accuracy: 0.9649 - val_loss: 2.0271 - val_accuracy: 0.6682\n",
            "Epoch 99/500\n",
            "119/119 [==============================] - 0s 2ms/step - loss: 0.0772 - accuracy: 0.9750 - val_loss: 1.8987 - val_accuracy: 0.6635\n",
            "Epoch 100/500\n",
            "119/119 [==============================] - 0s 2ms/step - loss: 0.1283 - accuracy: 0.9554 - val_loss: 1.9957 - val_accuracy: 0.6493\n",
            "Epoch 101/500\n",
            "119/119 [==============================] - 0s 2ms/step - loss: 0.2690 - accuracy: 0.9036 - val_loss: 2.0899 - val_accuracy: 0.6351\n",
            "Epoch 102/500\n",
            "119/119 [==============================] - 0s 2ms/step - loss: 0.2023 - accuracy: 0.9232 - val_loss: 2.0093 - val_accuracy: 0.6398\n",
            "Epoch 103/500\n",
            "119/119 [==============================] - 0s 2ms/step - loss: 0.2874 - accuracy: 0.8975 - val_loss: 1.8973 - val_accuracy: 0.6635\n",
            "Epoch 104/500\n",
            "119/119 [==============================] - 0s 1ms/step - loss: 0.2127 - accuracy: 0.9246 - val_loss: 1.9850 - val_accuracy: 0.6635\n",
            "Epoch 105/500\n",
            "119/119 [==============================] - 0s 2ms/step - loss: 0.1164 - accuracy: 0.9589 - val_loss: 2.1239 - val_accuracy: 0.6682\n",
            "Epoch 106/500\n",
            "119/119 [==============================] - 0s 2ms/step - loss: 0.1046 - accuracy: 0.9593 - val_loss: 2.0772 - val_accuracy: 0.6777\n",
            "Epoch 107/500\n",
            "119/119 [==============================] - 0s 2ms/step - loss: 0.0861 - accuracy: 0.9669 - val_loss: 2.0952 - val_accuracy: 0.6967\n",
            "Epoch 108/500\n",
            "119/119 [==============================] - 0s 2ms/step - loss: 0.0768 - accuracy: 0.9694 - val_loss: 2.0256 - val_accuracy: 0.6777\n",
            "Epoch 109/500\n",
            "119/119 [==============================] - 0s 2ms/step - loss: 0.0758 - accuracy: 0.9739 - val_loss: 2.0165 - val_accuracy: 0.6540\n",
            "Epoch 110/500\n",
            "119/119 [==============================] - 0s 2ms/step - loss: 0.0745 - accuracy: 0.9702 - val_loss: 2.0557 - val_accuracy: 0.6588\n",
            "Epoch 111/500\n",
            "119/119 [==============================] - 0s 2ms/step - loss: 0.0727 - accuracy: 0.9716 - val_loss: 2.0526 - val_accuracy: 0.6825\n",
            "Epoch 112/500\n",
            "119/119 [==============================] - 0s 2ms/step - loss: 0.0659 - accuracy: 0.9764 - val_loss: 2.0669 - val_accuracy: 0.6919\n",
            "Epoch 113/500\n",
            "119/119 [==============================] - 0s 2ms/step - loss: 0.0993 - accuracy: 0.9616 - val_loss: 2.2032 - val_accuracy: 0.6588\n",
            "Epoch 114/500\n",
            "119/119 [==============================] - 0s 2ms/step - loss: 0.2366 - accuracy: 0.9194 - val_loss: 2.1223 - val_accuracy: 0.6209\n",
            "Epoch 115/500\n",
            "119/119 [==============================] - 0s 2ms/step - loss: 0.3799 - accuracy: 0.8747 - val_loss: 2.3334 - val_accuracy: 0.6066\n",
            "Epoch 116/500\n",
            "119/119 [==============================] - 0s 2ms/step - loss: 0.2763 - accuracy: 0.9071 - val_loss: 1.8424 - val_accuracy: 0.6351\n",
            "Epoch 117/500\n",
            "119/119 [==============================] - 0s 2ms/step - loss: 0.1777 - accuracy: 0.9471 - val_loss: 2.0311 - val_accuracy: 0.6256\n",
            "Epoch 118/500\n",
            "119/119 [==============================] - 0s 2ms/step - loss: 0.1269 - accuracy: 0.9622 - val_loss: 2.0904 - val_accuracy: 0.6445\n",
            "Epoch 119/500\n",
            "119/119 [==============================] - 0s 2ms/step - loss: 0.1240 - accuracy: 0.9565 - val_loss: 2.1534 - val_accuracy: 0.6209\n",
            "Epoch 120/500\n",
            "119/119 [==============================] - 0s 2ms/step - loss: 0.0971 - accuracy: 0.9625 - val_loss: 2.0281 - val_accuracy: 0.6303\n",
            "Epoch 121/500\n",
            "119/119 [==============================] - 0s 2ms/step - loss: 0.0674 - accuracy: 0.9748 - val_loss: 2.0585 - val_accuracy: 0.6351\n",
            "Epoch 122/500\n",
            "119/119 [==============================] - 0s 2ms/step - loss: 0.0800 - accuracy: 0.9728 - val_loss: 2.0403 - val_accuracy: 0.6209\n",
            "Epoch 123/500\n",
            "119/119 [==============================] - 0s 2ms/step - loss: 0.0728 - accuracy: 0.9719 - val_loss: 1.9922 - val_accuracy: 0.6351\n",
            "Epoch 124/500\n",
            "119/119 [==============================] - 0s 2ms/step - loss: 0.0733 - accuracy: 0.9740 - val_loss: 2.1507 - val_accuracy: 0.6209\n",
            "Epoch 125/500\n",
            "119/119 [==============================] - 0s 2ms/step - loss: 0.0875 - accuracy: 0.9664 - val_loss: 2.0157 - val_accuracy: 0.6256\n",
            "Epoch 126/500\n",
            "119/119 [==============================] - 0s 2ms/step - loss: 0.0902 - accuracy: 0.9669 - val_loss: 2.1147 - val_accuracy: 0.6493\n",
            "Epoch 127/500\n",
            "119/119 [==============================] - 0s 2ms/step - loss: 0.1627 - accuracy: 0.9430 - val_loss: 2.1895 - val_accuracy: 0.6019\n",
            "Epoch 128/500\n",
            "119/119 [==============================] - 0s 2ms/step - loss: 0.3467 - accuracy: 0.8800 - val_loss: 1.8737 - val_accuracy: 0.6398\n",
            "Epoch 129/500\n",
            "119/119 [==============================] - 0s 2ms/step - loss: 0.2178 - accuracy: 0.9234 - val_loss: 2.1562 - val_accuracy: 0.6066\n",
            "Epoch 130/500\n",
            "119/119 [==============================] - 0s 2ms/step - loss: 0.2015 - accuracy: 0.9261 - val_loss: 2.1023 - val_accuracy: 0.6114\n",
            "Epoch 131/500\n",
            "119/119 [==============================] - 0s 1ms/step - loss: 0.2159 - accuracy: 0.9209 - val_loss: 2.0941 - val_accuracy: 0.6209\n",
            "Epoch 132/500\n",
            "119/119 [==============================] - 0s 2ms/step - loss: 0.1395 - accuracy: 0.9610 - val_loss: 2.0141 - val_accuracy: 0.6682\n",
            "Epoch 133/500\n",
            "119/119 [==============================] - 0s 1ms/step - loss: 0.1034 - accuracy: 0.9655 - val_loss: 2.2247 - val_accuracy: 0.5924\n",
            "Epoch 134/500\n",
            "119/119 [==============================] - 0s 2ms/step - loss: 0.0804 - accuracy: 0.9688 - val_loss: 2.0885 - val_accuracy: 0.6635\n",
            "Epoch 135/500\n",
            "119/119 [==============================] - 0s 2ms/step - loss: 0.0768 - accuracy: 0.9702 - val_loss: 2.0527 - val_accuracy: 0.6445\n",
            "Epoch 136/500\n",
            "119/119 [==============================] - 0s 1ms/step - loss: 0.0773 - accuracy: 0.9739 - val_loss: 2.2008 - val_accuracy: 0.6540\n",
            "Epoch 137/500\n",
            "119/119 [==============================] - 0s 2ms/step - loss: 0.0918 - accuracy: 0.9658 - val_loss: 2.2174 - val_accuracy: 0.6351\n",
            "Epoch 138/500\n",
            "119/119 [==============================] - 0s 2ms/step - loss: 0.0778 - accuracy: 0.9745 - val_loss: 2.0912 - val_accuracy: 0.6303\n",
            "Epoch 139/500\n",
            "119/119 [==============================] - 0s 2ms/step - loss: 0.0974 - accuracy: 0.9611 - val_loss: 2.0887 - val_accuracy: 0.6303\n",
            "Epoch 140/500\n",
            "119/119 [==============================] - 0s 2ms/step - loss: 0.0892 - accuracy: 0.9697 - val_loss: 2.1487 - val_accuracy: 0.6635\n",
            "Epoch 141/500\n",
            "119/119 [==============================] - 0s 2ms/step - loss: 0.0729 - accuracy: 0.9702 - val_loss: 2.1254 - val_accuracy: 0.6493\n",
            "Epoch 142/500\n",
            "119/119 [==============================] - 0s 1ms/step - loss: 0.0849 - accuracy: 0.9644 - val_loss: 2.1732 - val_accuracy: 0.6351\n",
            "Epoch 143/500\n",
            "119/119 [==============================] - 0s 1ms/step - loss: 0.6056 - accuracy: 0.8117 - val_loss: 1.6198 - val_accuracy: 0.6256\n",
            "Epoch 144/500\n",
            "119/119 [==============================] - 0s 2ms/step - loss: 0.2186 - accuracy: 0.9214 - val_loss: 2.2878 - val_accuracy: 0.6019\n",
            "Epoch 145/500\n",
            "119/119 [==============================] - 0s 2ms/step - loss: 0.1734 - accuracy: 0.9474 - val_loss: 2.0713 - val_accuracy: 0.6493\n",
            "Epoch 146/500\n",
            "119/119 [==============================] - 0s 2ms/step - loss: 0.1294 - accuracy: 0.9531 - val_loss: 2.2051 - val_accuracy: 0.6351\n",
            "Epoch 147/500\n",
            "119/119 [==============================] - 0s 2ms/step - loss: 0.1665 - accuracy: 0.9372 - val_loss: 2.0131 - val_accuracy: 0.6303\n",
            "Epoch 148/500\n",
            "119/119 [==============================] - 0s 1ms/step - loss: 0.0947 - accuracy: 0.9703 - val_loss: 2.1138 - val_accuracy: 0.6445\n",
            "Epoch 149/500\n",
            "119/119 [==============================] - 0s 2ms/step - loss: 0.0807 - accuracy: 0.9681 - val_loss: 2.2039 - val_accuracy: 0.6303\n",
            "Epoch 150/500\n",
            "119/119 [==============================] - 0s 2ms/step - loss: 0.0821 - accuracy: 0.9700 - val_loss: 2.2149 - val_accuracy: 0.6351\n",
            "Epoch 151/500\n",
            "119/119 [==============================] - 0s 2ms/step - loss: 0.0810 - accuracy: 0.9701 - val_loss: 2.1678 - val_accuracy: 0.6303\n",
            "Epoch 152/500\n",
            "119/119 [==============================] - 0s 1ms/step - loss: 0.0702 - accuracy: 0.9730 - val_loss: 2.1785 - val_accuracy: 0.6445\n",
            "Epoch 153/500\n",
            "119/119 [==============================] - 0s 2ms/step - loss: 0.0911 - accuracy: 0.9683 - val_loss: 2.2070 - val_accuracy: 0.6493\n",
            "Epoch 154/500\n",
            "119/119 [==============================] - 0s 2ms/step - loss: 0.0786 - accuracy: 0.9713 - val_loss: 2.1081 - val_accuracy: 0.6635\n",
            "Epoch 155/500\n",
            "119/119 [==============================] - 0s 1ms/step - loss: 0.0991 - accuracy: 0.9587 - val_loss: 2.2022 - val_accuracy: 0.6540\n",
            "Epoch 156/500\n",
            "119/119 [==============================] - 0s 2ms/step - loss: 0.0750 - accuracy: 0.9712 - val_loss: 2.2443 - val_accuracy: 0.6635\n",
            "Epoch 157/500\n",
            "119/119 [==============================] - 0s 2ms/step - loss: 0.0839 - accuracy: 0.9709 - val_loss: 2.2807 - val_accuracy: 0.6445\n",
            "Epoch 158/500\n",
            "119/119 [==============================] - 0s 2ms/step - loss: 0.1594 - accuracy: 0.9466 - val_loss: 2.4196 - val_accuracy: 0.6209\n",
            "Epoch 159/500\n",
            "119/119 [==============================] - 0s 2ms/step - loss: 0.6587 - accuracy: 0.8018 - val_loss: 1.8874 - val_accuracy: 0.5687\n",
            "Epoch 160/500\n",
            "119/119 [==============================] - 0s 2ms/step - loss: 0.3609 - accuracy: 0.8759 - val_loss: 1.8596 - val_accuracy: 0.6445\n",
            "Epoch 161/500\n",
            "119/119 [==============================] - 0s 2ms/step - loss: 0.2232 - accuracy: 0.9165 - val_loss: 1.9744 - val_accuracy: 0.6398\n",
            "Epoch 162/500\n",
            "119/119 [==============================] - 0s 2ms/step - loss: 0.1718 - accuracy: 0.9336 - val_loss: 1.8866 - val_accuracy: 0.6066\n",
            "Epoch 163/500\n",
            "119/119 [==============================] - 0s 2ms/step - loss: 0.1862 - accuracy: 0.9305 - val_loss: 2.0768 - val_accuracy: 0.6209\n",
            "Epoch 164/500\n",
            "119/119 [==============================] - 0s 2ms/step - loss: 0.1611 - accuracy: 0.9411 - val_loss: 2.0247 - val_accuracy: 0.6398\n",
            "Epoch 165/500\n",
            "119/119 [==============================] - 0s 2ms/step - loss: 0.1223 - accuracy: 0.9561 - val_loss: 1.9954 - val_accuracy: 0.6398\n",
            "Epoch 166/500\n",
            "119/119 [==============================] - 0s 2ms/step - loss: 0.0908 - accuracy: 0.9693 - val_loss: 2.0346 - val_accuracy: 0.6730\n",
            "Epoch 167/500\n",
            "119/119 [==============================] - 0s 2ms/step - loss: 0.1191 - accuracy: 0.9511 - val_loss: 2.0559 - val_accuracy: 0.6730\n",
            "Epoch 168/500\n",
            "119/119 [==============================] - 0s 1ms/step - loss: 0.1151 - accuracy: 0.9586 - val_loss: 1.9407 - val_accuracy: 0.6588\n",
            "Epoch 169/500\n",
            "119/119 [==============================] - 0s 2ms/step - loss: 0.1083 - accuracy: 0.9606 - val_loss: 1.9321 - val_accuracy: 0.6588\n",
            "Epoch 170/500\n",
            "119/119 [==============================] - 0s 2ms/step - loss: 0.2556 - accuracy: 0.9088 - val_loss: 2.0899 - val_accuracy: 0.6161\n",
            "Epoch 171/500\n",
            "119/119 [==============================] - 0s 2ms/step - loss: 0.1725 - accuracy: 0.9357 - val_loss: 2.0174 - val_accuracy: 0.6540\n",
            "Epoch 172/500\n",
            "119/119 [==============================] - 0s 2ms/step - loss: 0.1245 - accuracy: 0.9563 - val_loss: 2.0442 - val_accuracy: 0.6351\n",
            "Epoch 173/500\n",
            "119/119 [==============================] - 0s 2ms/step - loss: 0.1326 - accuracy: 0.9466 - val_loss: 1.9956 - val_accuracy: 0.6730\n",
            "Epoch 174/500\n",
            "119/119 [==============================] - 0s 2ms/step - loss: 0.0865 - accuracy: 0.9688 - val_loss: 2.0339 - val_accuracy: 0.6303\n",
            "Epoch 175/500\n",
            "119/119 [==============================] - 0s 1ms/step - loss: 0.0810 - accuracy: 0.9720 - val_loss: 2.0514 - val_accuracy: 0.6635\n",
            "Epoch 176/500\n",
            "119/119 [==============================] - 0s 2ms/step - loss: 0.0863 - accuracy: 0.9661 - val_loss: 2.1622 - val_accuracy: 0.6493\n",
            "Epoch 177/500\n",
            "119/119 [==============================] - 0s 2ms/step - loss: 0.0909 - accuracy: 0.9682 - val_loss: 2.0520 - val_accuracy: 0.6445\n",
            "Epoch 178/500\n",
            "119/119 [==============================] - 0s 2ms/step - loss: 0.1943 - accuracy: 0.9334 - val_loss: 2.1964 - val_accuracy: 0.6303\n",
            "Epoch 179/500\n",
            "119/119 [==============================] - 0s 2ms/step - loss: 0.2411 - accuracy: 0.9156 - val_loss: 2.2270 - val_accuracy: 0.6066\n",
            "Epoch 180/500\n",
            "119/119 [==============================] - 0s 2ms/step - loss: 0.1461 - accuracy: 0.9449 - val_loss: 1.8698 - val_accuracy: 0.6540\n",
            "Epoch 181/500\n",
            "119/119 [==============================] - 0s 2ms/step - loss: 0.0776 - accuracy: 0.9739 - val_loss: 1.9882 - val_accuracy: 0.6540\n",
            "Epoch 182/500\n",
            "119/119 [==============================] - 0s 2ms/step - loss: 0.0804 - accuracy: 0.9695 - val_loss: 2.0591 - val_accuracy: 0.6635\n",
            "Epoch 183/500\n",
            "119/119 [==============================] - 0s 2ms/step - loss: 0.0780 - accuracy: 0.9718 - val_loss: 2.1335 - val_accuracy: 0.6588\n",
            "Epoch 184/500\n",
            "119/119 [==============================] - 0s 2ms/step - loss: 0.0731 - accuracy: 0.9744 - val_loss: 2.0752 - val_accuracy: 0.6635\n",
            "Epoch 185/500\n",
            "119/119 [==============================] - 0s 2ms/step - loss: 0.0737 - accuracy: 0.9719 - val_loss: 2.0945 - val_accuracy: 0.6540\n",
            "Epoch 186/500\n",
            "119/119 [==============================] - 0s 2ms/step - loss: 0.0888 - accuracy: 0.9632 - val_loss: 2.0798 - val_accuracy: 0.6635\n",
            "Epoch 187/500\n",
            "119/119 [==============================] - 0s 2ms/step - loss: 0.0707 - accuracy: 0.9730 - val_loss: 2.1278 - val_accuracy: 0.6588\n",
            "Epoch 188/500\n",
            "119/119 [==============================] - 0s 2ms/step - loss: 0.0847 - accuracy: 0.9648 - val_loss: 2.1317 - val_accuracy: 0.6493\n",
            "Epoch 189/500\n",
            "119/119 [==============================] - 0s 2ms/step - loss: 0.0761 - accuracy: 0.9710 - val_loss: 2.1207 - val_accuracy: 0.6493\n",
            "Epoch 190/500\n",
            "119/119 [==============================] - 0s 2ms/step - loss: 0.1144 - accuracy: 0.9547 - val_loss: 2.6341 - val_accuracy: 0.5735\n",
            "Epoch 191/500\n",
            "119/119 [==============================] - 0s 2ms/step - loss: 0.8370 - accuracy: 0.7785 - val_loss: 1.9416 - val_accuracy: 0.5877\n",
            "Epoch 192/500\n",
            "119/119 [==============================] - 0s 2ms/step - loss: 0.2906 - accuracy: 0.8963 - val_loss: 1.9877 - val_accuracy: 0.6114\n",
            "Epoch 193/500\n",
            "119/119 [==============================] - 0s 2ms/step - loss: 0.1751 - accuracy: 0.9304 - val_loss: 2.0415 - val_accuracy: 0.6303\n",
            "Epoch 194/500\n",
            "119/119 [==============================] - 0s 2ms/step - loss: 0.1735 - accuracy: 0.9289 - val_loss: 1.9811 - val_accuracy: 0.6493\n",
            "Epoch 195/500\n",
            "119/119 [==============================] - 0s 2ms/step - loss: 0.0953 - accuracy: 0.9635 - val_loss: 2.0609 - val_accuracy: 0.6540\n",
            "Epoch 196/500\n",
            "119/119 [==============================] - 0s 2ms/step - loss: 0.0776 - accuracy: 0.9734 - val_loss: 2.0172 - val_accuracy: 0.6493\n",
            "Epoch 197/500\n",
            "119/119 [==============================] - 0s 2ms/step - loss: 0.0718 - accuracy: 0.9715 - val_loss: 2.0512 - val_accuracy: 0.6730\n",
            "Epoch 198/500\n",
            "119/119 [==============================] - 0s 2ms/step - loss: 0.0721 - accuracy: 0.9713 - val_loss: 2.0092 - val_accuracy: 0.6635\n",
            "Epoch 199/500\n",
            "119/119 [==============================] - 0s 2ms/step - loss: 0.0750 - accuracy: 0.9727 - val_loss: 2.1076 - val_accuracy: 0.6493\n",
            "Epoch 200/500\n",
            "119/119 [==============================] - 0s 2ms/step - loss: 0.0794 - accuracy: 0.9691 - val_loss: 2.1782 - val_accuracy: 0.6445\n",
            "Epoch 201/500\n",
            "119/119 [==============================] - 0s 1ms/step - loss: 0.1236 - accuracy: 0.9527 - val_loss: 2.2308 - val_accuracy: 0.6540\n",
            "Epoch 202/500\n",
            "119/119 [==============================] - 0s 1ms/step - loss: 0.4000 - accuracy: 0.8534 - val_loss: 2.0776 - val_accuracy: 0.6588\n",
            "Epoch 203/500\n",
            "119/119 [==============================] - 0s 2ms/step - loss: 0.1985 - accuracy: 0.9295 - val_loss: 1.7645 - val_accuracy: 0.6588\n",
            "Epoch 204/500\n",
            "119/119 [==============================] - 0s 2ms/step - loss: 0.1259 - accuracy: 0.9511 - val_loss: 1.9723 - val_accuracy: 0.6445\n",
            "Epoch 205/500\n",
            "119/119 [==============================] - 0s 2ms/step - loss: 0.1196 - accuracy: 0.9545 - val_loss: 2.0491 - val_accuracy: 0.6303\n",
            "Epoch 206/500\n",
            "119/119 [==============================] - 0s 1ms/step - loss: 0.0736 - accuracy: 0.9716 - val_loss: 2.0162 - val_accuracy: 0.6398\n",
            "Epoch 207/500\n",
            "119/119 [==============================] - 0s 2ms/step - loss: 0.0833 - accuracy: 0.9630 - val_loss: 2.0116 - val_accuracy: 0.6398\n",
            "Epoch 208/500\n",
            "119/119 [==============================] - 0s 2ms/step - loss: 0.0730 - accuracy: 0.9736 - val_loss: 2.0242 - val_accuracy: 0.6588\n",
            "Epoch 209/500\n",
            "119/119 [==============================] - 0s 2ms/step - loss: 0.0779 - accuracy: 0.9676 - val_loss: 2.1121 - val_accuracy: 0.6445\n",
            "Epoch 210/500\n",
            "119/119 [==============================] - 0s 2ms/step - loss: 0.0742 - accuracy: 0.9709 - val_loss: 2.1270 - val_accuracy: 0.6445\n",
            "Epoch 211/500\n",
            "119/119 [==============================] - 0s 2ms/step - loss: 0.0821 - accuracy: 0.9727 - val_loss: 1.9811 - val_accuracy: 0.6635\n",
            "Epoch 212/500\n",
            "119/119 [==============================] - 0s 2ms/step - loss: 0.0860 - accuracy: 0.9649 - val_loss: 2.2405 - val_accuracy: 0.6493\n",
            "Epoch 213/500\n",
            "119/119 [==============================] - 0s 2ms/step - loss: 0.1801 - accuracy: 0.9362 - val_loss: 2.2210 - val_accuracy: 0.6256\n",
            "Epoch 214/500\n",
            "119/119 [==============================] - 0s 2ms/step - loss: 0.3462 - accuracy: 0.8753 - val_loss: 2.2551 - val_accuracy: 0.6445\n",
            "Epoch 215/500\n",
            "119/119 [==============================] - 0s 2ms/step - loss: 0.3880 - accuracy: 0.8660 - val_loss: 1.9896 - val_accuracy: 0.6066\n",
            "Epoch 216/500\n",
            "119/119 [==============================] - 0s 1ms/step - loss: 0.1937 - accuracy: 0.9343 - val_loss: 1.9028 - val_accuracy: 0.6398\n",
            "Epoch 217/500\n",
            "119/119 [==============================] - 0s 2ms/step - loss: 0.1473 - accuracy: 0.9423 - val_loss: 2.0613 - val_accuracy: 0.6398\n",
            "Epoch 218/500\n",
            "119/119 [==============================] - 0s 1ms/step - loss: 0.0928 - accuracy: 0.9622 - val_loss: 1.9672 - val_accuracy: 0.6588\n",
            "Epoch 219/500\n",
            "119/119 [==============================] - 0s 2ms/step - loss: 0.0783 - accuracy: 0.9718 - val_loss: 1.9960 - val_accuracy: 0.6493\n",
            "Epoch 220/500\n",
            "119/119 [==============================] - 0s 2ms/step - loss: 0.0768 - accuracy: 0.9705 - val_loss: 1.9938 - val_accuracy: 0.6493\n",
            "Epoch 221/500\n",
            "119/119 [==============================] - 0s 2ms/step - loss: 0.0785 - accuracy: 0.9726 - val_loss: 2.0173 - val_accuracy: 0.6588\n",
            "Epoch 222/500\n",
            "119/119 [==============================] - 0s 1ms/step - loss: 0.0656 - accuracy: 0.9757 - val_loss: 2.0533 - val_accuracy: 0.6493\n",
            "Epoch 223/500\n",
            "119/119 [==============================] - 0s 2ms/step - loss: 0.0747 - accuracy: 0.9692 - val_loss: 2.1137 - val_accuracy: 0.6635\n",
            "Epoch 224/500\n",
            "119/119 [==============================] - 0s 1ms/step - loss: 0.0894 - accuracy: 0.9591 - val_loss: 2.0694 - val_accuracy: 0.6540\n",
            "Epoch 225/500\n",
            "119/119 [==============================] - 0s 2ms/step - loss: 0.0685 - accuracy: 0.9732 - val_loss: 2.1244 - val_accuracy: 0.6540\n",
            "Epoch 226/500\n",
            "119/119 [==============================] - 0s 2ms/step - loss: 0.0804 - accuracy: 0.9708 - val_loss: 2.1395 - val_accuracy: 0.6398\n",
            "Epoch 227/500\n",
            "119/119 [==============================] - 0s 2ms/step - loss: 0.1321 - accuracy: 0.9553 - val_loss: 1.9240 - val_accuracy: 0.6114\n",
            "Epoch 228/500\n",
            "119/119 [==============================] - 0s 2ms/step - loss: 0.3868 - accuracy: 0.8862 - val_loss: 1.9580 - val_accuracy: 0.6398\n",
            "Epoch 229/500\n",
            "119/119 [==============================] - 0s 1ms/step - loss: 0.2287 - accuracy: 0.9082 - val_loss: 2.1423 - val_accuracy: 0.6445\n",
            "Epoch 230/500\n",
            "119/119 [==============================] - 0s 2ms/step - loss: 0.1302 - accuracy: 0.9470 - val_loss: 2.3244 - val_accuracy: 0.6019\n",
            "Epoch 231/500\n",
            "119/119 [==============================] - 0s 1ms/step - loss: 0.2045 - accuracy: 0.9301 - val_loss: 2.1683 - val_accuracy: 0.6209\n",
            "Epoch 232/500\n",
            "119/119 [==============================] - 0s 1ms/step - loss: 0.1633 - accuracy: 0.9430 - val_loss: 2.1208 - val_accuracy: 0.6445\n",
            "Epoch 233/500\n",
            "119/119 [==============================] - 0s 1ms/step - loss: 0.1070 - accuracy: 0.9587 - val_loss: 1.9300 - val_accuracy: 0.6635\n",
            "Epoch 234/500\n",
            "119/119 [==============================] - 0s 1ms/step - loss: 0.0832 - accuracy: 0.9699 - val_loss: 2.0354 - val_accuracy: 0.6588\n",
            "Epoch 235/500\n",
            "119/119 [==============================] - 0s 2ms/step - loss: 0.0723 - accuracy: 0.9738 - val_loss: 2.0185 - val_accuracy: 0.6635\n",
            "Epoch 236/500\n",
            "119/119 [==============================] - 0s 2ms/step - loss: 0.0814 - accuracy: 0.9645 - val_loss: 2.0436 - val_accuracy: 0.6493\n",
            "Epoch 237/500\n",
            "119/119 [==============================] - 0s 1ms/step - loss: 0.0712 - accuracy: 0.9736 - val_loss: 2.0304 - val_accuracy: 0.6682\n",
            "Epoch 238/500\n",
            "119/119 [==============================] - 0s 2ms/step - loss: 0.0645 - accuracy: 0.9743 - val_loss: 1.9984 - val_accuracy: 0.6635\n",
            "Epoch 239/500\n",
            "119/119 [==============================] - 0s 1ms/step - loss: 0.0792 - accuracy: 0.9654 - val_loss: 2.0014 - val_accuracy: 0.6682\n",
            "Epoch 240/500\n",
            "119/119 [==============================] - 0s 1ms/step - loss: 0.0745 - accuracy: 0.9672 - val_loss: 2.0725 - val_accuracy: 0.6493\n",
            "Epoch 241/500\n",
            "119/119 [==============================] - 0s 2ms/step - loss: 0.0916 - accuracy: 0.9623 - val_loss: 2.0575 - val_accuracy: 0.6635\n",
            "Epoch 242/500\n",
            "119/119 [==============================] - 0s 2ms/step - loss: 0.0818 - accuracy: 0.9672 - val_loss: 2.0618 - val_accuracy: 0.6445\n",
            "Epoch 243/500\n",
            "119/119 [==============================] - 0s 2ms/step - loss: 0.0765 - accuracy: 0.9665 - val_loss: 2.0986 - val_accuracy: 0.6540\n",
            "Epoch 244/500\n",
            "119/119 [==============================] - 0s 2ms/step - loss: 0.0897 - accuracy: 0.9629 - val_loss: 2.0492 - val_accuracy: 0.6588\n",
            "Epoch 245/500\n",
            "119/119 [==============================] - 0s 1ms/step - loss: 0.0861 - accuracy: 0.9640 - val_loss: 2.0907 - val_accuracy: 0.6540\n",
            "Epoch 246/500\n",
            "119/119 [==============================] - 0s 2ms/step - loss: 0.1015 - accuracy: 0.9603 - val_loss: 2.1178 - val_accuracy: 0.6493\n",
            "Epoch 247/500\n",
            "119/119 [==============================] - 0s 2ms/step - loss: 0.2099 - accuracy: 0.9339 - val_loss: 2.0304 - val_accuracy: 0.5782\n",
            "Epoch 248/500\n",
            "119/119 [==============================] - 0s 1ms/step - loss: 0.4776 - accuracy: 0.8421 - val_loss: 1.8023 - val_accuracy: 0.6398\n",
            "Epoch 249/500\n",
            "119/119 [==============================] - 0s 1ms/step - loss: 0.3117 - accuracy: 0.8866 - val_loss: 1.7924 - val_accuracy: 0.6493\n",
            "Epoch 250/500\n",
            "119/119 [==============================] - 0s 1ms/step - loss: 0.1974 - accuracy: 0.9261 - val_loss: 1.8747 - val_accuracy: 0.6777\n",
            "Epoch 251/500\n",
            "119/119 [==============================] - 0s 1ms/step - loss: 0.1242 - accuracy: 0.9550 - val_loss: 1.8025 - val_accuracy: 0.6493\n",
            "Epoch 252/500\n",
            "119/119 [==============================] - 0s 1ms/step - loss: 0.0914 - accuracy: 0.9620 - val_loss: 1.8365 - val_accuracy: 0.6540\n",
            "Epoch 253/500\n",
            "119/119 [==============================] - 0s 1ms/step - loss: 0.0835 - accuracy: 0.9649 - val_loss: 2.1110 - val_accuracy: 0.6398\n",
            "Epoch 254/500\n",
            "119/119 [==============================] - 0s 1ms/step - loss: 0.0930 - accuracy: 0.9652 - val_loss: 1.8374 - val_accuracy: 0.6730\n",
            "Epoch 255/500\n",
            "119/119 [==============================] - 0s 2ms/step - loss: 0.1217 - accuracy: 0.9539 - val_loss: 2.2818 - val_accuracy: 0.6445\n",
            "Epoch 256/500\n",
            "119/119 [==============================] - 0s 1ms/step - loss: 0.2359 - accuracy: 0.9159 - val_loss: 2.0256 - val_accuracy: 0.6256\n",
            "Epoch 257/500\n",
            "119/119 [==============================] - 0s 2ms/step - loss: 0.2453 - accuracy: 0.9108 - val_loss: 1.8369 - val_accuracy: 0.6682\n",
            "Epoch 258/500\n",
            "119/119 [==============================] - 0s 1ms/step - loss: 0.1240 - accuracy: 0.9485 - val_loss: 2.0762 - val_accuracy: 0.6493\n",
            "Epoch 259/500\n",
            "119/119 [==============================] - 0s 2ms/step - loss: 0.0902 - accuracy: 0.9655 - val_loss: 2.0597 - val_accuracy: 0.6682\n",
            "Epoch 260/500\n",
            "119/119 [==============================] - 0s 1ms/step - loss: 0.0780 - accuracy: 0.9704 - val_loss: 2.0938 - val_accuracy: 0.6445\n",
            "Epoch 261/500\n",
            "119/119 [==============================] - 0s 2ms/step - loss: 0.0732 - accuracy: 0.9687 - val_loss: 2.0875 - val_accuracy: 0.6540\n",
            "Epoch 262/500\n",
            "119/119 [==============================] - 0s 1ms/step - loss: 0.0749 - accuracy: 0.9666 - val_loss: 2.0293 - val_accuracy: 0.6493\n",
            "Epoch 263/500\n",
            "119/119 [==============================] - 0s 1ms/step - loss: 0.0727 - accuracy: 0.9688 - val_loss: 2.0683 - val_accuracy: 0.6540\n",
            "Epoch 264/500\n",
            "119/119 [==============================] - 0s 1ms/step - loss: 0.0662 - accuracy: 0.9755 - val_loss: 2.0544 - val_accuracy: 0.6588\n",
            "Epoch 265/500\n",
            "119/119 [==============================] - 0s 1ms/step - loss: 0.0663 - accuracy: 0.9732 - val_loss: 2.0863 - val_accuracy: 0.6540\n",
            "Epoch 266/500\n",
            "119/119 [==============================] - 0s 1ms/step - loss: 0.0802 - accuracy: 0.9672 - val_loss: 2.1245 - val_accuracy: 0.6588\n",
            "Epoch 267/500\n",
            "119/119 [==============================] - 0s 2ms/step - loss: 0.0649 - accuracy: 0.9763 - val_loss: 2.0789 - val_accuracy: 0.6540\n",
            "Epoch 268/500\n",
            "119/119 [==============================] - 0s 1ms/step - loss: 0.0700 - accuracy: 0.9724 - val_loss: 2.0307 - val_accuracy: 0.6445\n",
            "Epoch 269/500\n",
            "119/119 [==============================] - 0s 2ms/step - loss: 0.0708 - accuracy: 0.9715 - val_loss: 2.1427 - val_accuracy: 0.6445\n",
            "Epoch 270/500\n",
            "119/119 [==============================] - 0s 1ms/step - loss: 0.0741 - accuracy: 0.9692 - val_loss: 2.1361 - val_accuracy: 0.6682\n",
            "Epoch 271/500\n",
            "119/119 [==============================] - 0s 1ms/step - loss: 0.2537 - accuracy: 0.9243 - val_loss: 2.0059 - val_accuracy: 0.5545\n",
            "Epoch 272/500\n",
            "119/119 [==============================] - 0s 1ms/step - loss: 0.8053 - accuracy: 0.7479 - val_loss: 1.6022 - val_accuracy: 0.6066\n",
            "Epoch 273/500\n",
            "119/119 [==============================] - 0s 2ms/step - loss: 0.4085 - accuracy: 0.8521 - val_loss: 1.6150 - val_accuracy: 0.6066\n",
            "Epoch 274/500\n",
            "119/119 [==============================] - 0s 1ms/step - loss: 0.2842 - accuracy: 0.8919 - val_loss: 1.9295 - val_accuracy: 0.5972\n",
            "Epoch 275/500\n",
            "119/119 [==============================] - 0s 1ms/step - loss: 0.1490 - accuracy: 0.9493 - val_loss: 2.0014 - val_accuracy: 0.6161\n",
            "Epoch 276/500\n",
            "119/119 [==============================] - 0s 1ms/step - loss: 0.1888 - accuracy: 0.9299 - val_loss: 2.0150 - val_accuracy: 0.6398\n",
            "Epoch 277/500\n",
            "119/119 [==============================] - 0s 1ms/step - loss: 0.2063 - accuracy: 0.9251 - val_loss: 2.0771 - val_accuracy: 0.6445\n",
            "Epoch 278/500\n",
            "119/119 [==============================] - 0s 2ms/step - loss: 0.1974 - accuracy: 0.9246 - val_loss: 2.0091 - val_accuracy: 0.6351\n",
            "Epoch 279/500\n",
            "119/119 [==============================] - 0s 1ms/step - loss: 0.1866 - accuracy: 0.9337 - val_loss: 1.9361 - val_accuracy: 0.6445\n",
            "Epoch 280/500\n",
            "119/119 [==============================] - 0s 1ms/step - loss: 0.1742 - accuracy: 0.9333 - val_loss: 1.9439 - val_accuracy: 0.6351\n",
            "Epoch 281/500\n",
            "119/119 [==============================] - 0s 2ms/step - loss: 0.1204 - accuracy: 0.9573 - val_loss: 2.0371 - val_accuracy: 0.6398\n",
            "Epoch 282/500\n",
            "119/119 [==============================] - 0s 2ms/step - loss: 0.1110 - accuracy: 0.9558 - val_loss: 1.9711 - val_accuracy: 0.6445\n",
            "Epoch 283/500\n",
            "119/119 [==============================] - 0s 2ms/step - loss: 0.0907 - accuracy: 0.9680 - val_loss: 1.9714 - val_accuracy: 0.6540\n",
            "Epoch 284/500\n",
            "119/119 [==============================] - 0s 2ms/step - loss: 0.1062 - accuracy: 0.9627 - val_loss: 2.0148 - val_accuracy: 0.6540\n",
            "Epoch 285/500\n",
            "119/119 [==============================] - 0s 2ms/step - loss: 0.0827 - accuracy: 0.9712 - val_loss: 1.9790 - val_accuracy: 0.6351\n",
            "Epoch 286/500\n",
            "119/119 [==============================] - 0s 2ms/step - loss: 0.1087 - accuracy: 0.9599 - val_loss: 2.2193 - val_accuracy: 0.6540\n",
            "Epoch 287/500\n",
            "119/119 [==============================] - 0s 1ms/step - loss: 0.1450 - accuracy: 0.9459 - val_loss: 2.4534 - val_accuracy: 0.5972\n",
            "Epoch 288/500\n",
            "119/119 [==============================] - 0s 1ms/step - loss: 0.3246 - accuracy: 0.8917 - val_loss: 1.8717 - val_accuracy: 0.6114\n",
            "Epoch 289/500\n",
            "119/119 [==============================] - 0s 2ms/step - loss: 0.2711 - accuracy: 0.9034 - val_loss: 2.2096 - val_accuracy: 0.6114\n",
            "Epoch 290/500\n",
            "119/119 [==============================] - 0s 1ms/step - loss: 0.1258 - accuracy: 0.9526 - val_loss: 2.1724 - val_accuracy: 0.6209\n",
            "Epoch 291/500\n",
            "119/119 [==============================] - 0s 1ms/step - loss: 0.1367 - accuracy: 0.9555 - val_loss: 2.1014 - val_accuracy: 0.6303\n",
            "Epoch 292/500\n",
            "119/119 [==============================] - 0s 1ms/step - loss: 0.0836 - accuracy: 0.9713 - val_loss: 2.1000 - val_accuracy: 0.6351\n",
            "Epoch 293/500\n",
            "119/119 [==============================] - 0s 1ms/step - loss: 0.0984 - accuracy: 0.9606 - val_loss: 2.0390 - val_accuracy: 0.6445\n",
            "Epoch 294/500\n",
            "119/119 [==============================] - 0s 1ms/step - loss: 0.0889 - accuracy: 0.9662 - val_loss: 2.0441 - val_accuracy: 0.6588\n",
            "Epoch 295/500\n",
            "119/119 [==============================] - 0s 2ms/step - loss: 0.0963 - accuracy: 0.9647 - val_loss: 1.9752 - val_accuracy: 0.6445\n",
            "Epoch 296/500\n",
            "119/119 [==============================] - 0s 1ms/step - loss: 0.1316 - accuracy: 0.9485 - val_loss: 2.4958 - val_accuracy: 0.5972\n",
            "Epoch 297/500\n",
            "119/119 [==============================] - 0s 2ms/step - loss: 0.2225 - accuracy: 0.9175 - val_loss: 2.0716 - val_accuracy: 0.6445\n",
            "Epoch 298/500\n",
            "119/119 [==============================] - 0s 2ms/step - loss: 0.2316 - accuracy: 0.9209 - val_loss: 2.5034 - val_accuracy: 0.6019\n",
            "Epoch 299/500\n",
            "119/119 [==============================] - 0s 1ms/step - loss: 0.3093 - accuracy: 0.8921 - val_loss: 2.3799 - val_accuracy: 0.6066\n",
            "Epoch 300/500\n",
            "119/119 [==============================] - 0s 2ms/step - loss: 0.1639 - accuracy: 0.9412 - val_loss: 2.0412 - val_accuracy: 0.6209\n",
            "Epoch 301/500\n",
            "119/119 [==============================] - 0s 2ms/step - loss: 0.0974 - accuracy: 0.9647 - val_loss: 2.0330 - val_accuracy: 0.6682\n",
            "Epoch 302/500\n",
            "119/119 [==============================] - 0s 1ms/step - loss: 0.1181 - accuracy: 0.9509 - val_loss: 2.1132 - val_accuracy: 0.6303\n",
            "Epoch 303/500\n",
            "119/119 [==============================] - 0s 1ms/step - loss: 0.0829 - accuracy: 0.9694 - val_loss: 2.1427 - val_accuracy: 0.6445\n",
            "Epoch 304/500\n",
            "119/119 [==============================] - 0s 1ms/step - loss: 0.0870 - accuracy: 0.9639 - val_loss: 2.1894 - val_accuracy: 0.6445\n",
            "Epoch 305/500\n",
            "119/119 [==============================] - 0s 1ms/step - loss: 0.0856 - accuracy: 0.9681 - val_loss: 2.3175 - val_accuracy: 0.6209\n",
            "Epoch 306/500\n",
            "119/119 [==============================] - 0s 2ms/step - loss: 0.4182 - accuracy: 0.8607 - val_loss: 2.2882 - val_accuracy: 0.5972\n",
            "Epoch 307/500\n",
            "119/119 [==============================] - 0s 2ms/step - loss: 0.2351 - accuracy: 0.9126 - val_loss: 2.2613 - val_accuracy: 0.6256\n",
            "Epoch 308/500\n",
            "119/119 [==============================] - 0s 1ms/step - loss: 0.1565 - accuracy: 0.9521 - val_loss: 2.1045 - val_accuracy: 0.6209\n",
            "Epoch 309/500\n",
            "119/119 [==============================] - 0s 2ms/step - loss: 0.1104 - accuracy: 0.9608 - val_loss: 2.2647 - val_accuracy: 0.6209\n",
            "Epoch 310/500\n",
            "119/119 [==============================] - 0s 2ms/step - loss: 0.0900 - accuracy: 0.9668 - val_loss: 2.1563 - val_accuracy: 0.6445\n",
            "Epoch 311/500\n",
            "119/119 [==============================] - 0s 2ms/step - loss: 0.0736 - accuracy: 0.9748 - val_loss: 2.0861 - val_accuracy: 0.6398\n",
            "Epoch 312/500\n",
            "119/119 [==============================] - 0s 2ms/step - loss: 0.0897 - accuracy: 0.9674 - val_loss: 2.0923 - val_accuracy: 0.6445\n",
            "Epoch 313/500\n",
            "119/119 [==============================] - 0s 2ms/step - loss: 0.0804 - accuracy: 0.9692 - val_loss: 2.1176 - val_accuracy: 0.6209\n",
            "Epoch 314/500\n",
            "119/119 [==============================] - 0s 2ms/step - loss: 0.0878 - accuracy: 0.9620 - val_loss: 2.1451 - val_accuracy: 0.6445\n",
            "Epoch 315/500\n",
            "119/119 [==============================] - 0s 2ms/step - loss: 0.1291 - accuracy: 0.9499 - val_loss: 2.0844 - val_accuracy: 0.6209\n",
            "Epoch 316/500\n",
            "119/119 [==============================] - 0s 2ms/step - loss: 0.3019 - accuracy: 0.8866 - val_loss: 2.3324 - val_accuracy: 0.6019\n",
            "Epoch 317/500\n",
            "119/119 [==============================] - 0s 2ms/step - loss: 0.2469 - accuracy: 0.9106 - val_loss: 2.0890 - val_accuracy: 0.6303\n",
            "Epoch 318/500\n",
            "119/119 [==============================] - 0s 2ms/step - loss: 0.1394 - accuracy: 0.9460 - val_loss: 2.1773 - val_accuracy: 0.6588\n",
            "Epoch 319/500\n",
            "119/119 [==============================] - 0s 2ms/step - loss: 0.1444 - accuracy: 0.9466 - val_loss: 2.0863 - val_accuracy: 0.6209\n",
            "Epoch 320/500\n",
            "119/119 [==============================] - 0s 2ms/step - loss: 0.0893 - accuracy: 0.9660 - val_loss: 2.0375 - val_accuracy: 0.6493\n",
            "Epoch 321/500\n",
            "119/119 [==============================] - 0s 2ms/step - loss: 0.0833 - accuracy: 0.9707 - val_loss: 1.9876 - val_accuracy: 0.6445\n",
            "Epoch 322/500\n",
            "119/119 [==============================] - 0s 2ms/step - loss: 0.0797 - accuracy: 0.9676 - val_loss: 2.0377 - val_accuracy: 0.6398\n",
            "Epoch 323/500\n",
            "119/119 [==============================] - 0s 2ms/step - loss: 0.0826 - accuracy: 0.9684 - val_loss: 2.0130 - val_accuracy: 0.6303\n",
            "Epoch 324/500\n",
            "119/119 [==============================] - 0s 2ms/step - loss: 0.0670 - accuracy: 0.9727 - val_loss: 2.1102 - val_accuracy: 0.6493\n",
            "Epoch 325/500\n",
            "119/119 [==============================] - 0s 2ms/step - loss: 0.0783 - accuracy: 0.9653 - val_loss: 2.1062 - val_accuracy: 0.6209\n",
            "Epoch 326/500\n",
            "119/119 [==============================] - 0s 2ms/step - loss: 0.1229 - accuracy: 0.9527 - val_loss: 2.3296 - val_accuracy: 0.5924\n",
            "Epoch 327/500\n",
            "119/119 [==============================] - 0s 2ms/step - loss: 0.2646 - accuracy: 0.9074 - val_loss: 2.0585 - val_accuracy: 0.6114\n",
            "Epoch 328/500\n",
            "119/119 [==============================] - 0s 1ms/step - loss: 0.2198 - accuracy: 0.9176 - val_loss: 2.0025 - val_accuracy: 0.6445\n",
            "Epoch 329/500\n",
            "119/119 [==============================] - 0s 1ms/step - loss: 0.1535 - accuracy: 0.9405 - val_loss: 2.1551 - val_accuracy: 0.6114\n",
            "Epoch 330/500\n",
            "119/119 [==============================] - 0s 2ms/step - loss: 0.1313 - accuracy: 0.9507 - val_loss: 2.1601 - val_accuracy: 0.6209\n",
            "Epoch 331/500\n",
            "119/119 [==============================] - 0s 2ms/step - loss: 0.1221 - accuracy: 0.9526 - val_loss: 2.3184 - val_accuracy: 0.6209\n",
            "Epoch 332/500\n",
            "119/119 [==============================] - 0s 2ms/step - loss: 0.1219 - accuracy: 0.9586 - val_loss: 2.2574 - val_accuracy: 0.6540\n",
            "Epoch 333/500\n",
            "119/119 [==============================] - 0s 2ms/step - loss: 0.1792 - accuracy: 0.9396 - val_loss: 2.1523 - val_accuracy: 0.5829\n",
            "Epoch 334/500\n",
            "119/119 [==============================] - 0s 2ms/step - loss: 0.2525 - accuracy: 0.9097 - val_loss: 1.9704 - val_accuracy: 0.6730\n",
            "Epoch 335/500\n",
            "119/119 [==============================] - 0s 2ms/step - loss: 0.2226 - accuracy: 0.9097 - val_loss: 2.2234 - val_accuracy: 0.6303\n",
            "Epoch 336/500\n",
            "119/119 [==============================] - 0s 2ms/step - loss: 0.2305 - accuracy: 0.9252 - val_loss: 2.0669 - val_accuracy: 0.6256\n",
            "Epoch 337/500\n",
            "119/119 [==============================] - 0s 2ms/step - loss: 0.0826 - accuracy: 0.9701 - val_loss: 2.1036 - val_accuracy: 0.6351\n",
            "Epoch 338/500\n",
            "119/119 [==============================] - 0s 2ms/step - loss: 0.0868 - accuracy: 0.9693 - val_loss: 2.1340 - val_accuracy: 0.6351\n",
            "Epoch 339/500\n",
            "119/119 [==============================] - 0s 2ms/step - loss: 0.0736 - accuracy: 0.9725 - val_loss: 2.1403 - val_accuracy: 0.6303\n",
            "Epoch 340/500\n",
            "119/119 [==============================] - 0s 2ms/step - loss: 0.0639 - accuracy: 0.9726 - val_loss: 2.2380 - val_accuracy: 0.6256\n",
            "Epoch 341/500\n",
            "119/119 [==============================] - 0s 2ms/step - loss: 0.0762 - accuracy: 0.9715 - val_loss: 2.1572 - val_accuracy: 0.6256\n",
            "Epoch 342/500\n",
            "119/119 [==============================] - 0s 2ms/step - loss: 0.0990 - accuracy: 0.9584 - val_loss: 2.1047 - val_accuracy: 0.6351\n",
            "Epoch 343/500\n",
            "119/119 [==============================] - 0s 2ms/step - loss: 0.0801 - accuracy: 0.9707 - val_loss: 2.2069 - val_accuracy: 0.6209\n",
            "Epoch 344/500\n",
            "119/119 [==============================] - 0s 2ms/step - loss: 0.0771 - accuracy: 0.9686 - val_loss: 2.2079 - val_accuracy: 0.6256\n",
            "Epoch 345/500\n",
            "119/119 [==============================] - 0s 2ms/step - loss: 0.0832 - accuracy: 0.9622 - val_loss: 2.1692 - val_accuracy: 0.6540\n",
            "Epoch 346/500\n",
            "119/119 [==============================] - 0s 2ms/step - loss: 0.0917 - accuracy: 0.9622 - val_loss: 2.1827 - val_accuracy: 0.6398\n",
            "Epoch 347/500\n",
            "119/119 [==============================] - 0s 2ms/step - loss: 0.0975 - accuracy: 0.9650 - val_loss: 2.2256 - val_accuracy: 0.6256\n",
            "Epoch 348/500\n",
            "119/119 [==============================] - 0s 2ms/step - loss: 0.0739 - accuracy: 0.9721 - val_loss: 2.2272 - val_accuracy: 0.6303\n",
            "Epoch 349/500\n",
            "119/119 [==============================] - 0s 2ms/step - loss: 0.1022 - accuracy: 0.9621 - val_loss: 2.0697 - val_accuracy: 0.6351\n",
            "Epoch 350/500\n",
            "119/119 [==============================] - 0s 2ms/step - loss: 0.6037 - accuracy: 0.8058 - val_loss: 1.9765 - val_accuracy: 0.6066\n",
            "Epoch 351/500\n",
            "119/119 [==============================] - 0s 2ms/step - loss: 0.3656 - accuracy: 0.8709 - val_loss: 2.0548 - val_accuracy: 0.5877\n",
            "Epoch 352/500\n",
            "119/119 [==============================] - 0s 2ms/step - loss: 0.1489 - accuracy: 0.9488 - val_loss: 2.0931 - val_accuracy: 0.6019\n",
            "Epoch 353/500\n",
            "119/119 [==============================] - 0s 2ms/step - loss: 0.1177 - accuracy: 0.9565 - val_loss: 2.2029 - val_accuracy: 0.6588\n",
            "Epoch 354/500\n",
            "119/119 [==============================] - 0s 2ms/step - loss: 0.1481 - accuracy: 0.9452 - val_loss: 2.0257 - val_accuracy: 0.6730\n",
            "Epoch 355/500\n",
            "119/119 [==============================] - 0s 2ms/step - loss: 0.0712 - accuracy: 0.9730 - val_loss: 2.0978 - val_accuracy: 0.6398\n",
            "Epoch 356/500\n",
            "119/119 [==============================] - 0s 2ms/step - loss: 0.0746 - accuracy: 0.9711 - val_loss: 2.1311 - val_accuracy: 0.6588\n",
            "Epoch 357/500\n",
            "119/119 [==============================] - 0s 2ms/step - loss: 0.0769 - accuracy: 0.9670 - val_loss: 2.1458 - val_accuracy: 0.6540\n",
            "Epoch 358/500\n",
            "119/119 [==============================] - 0s 2ms/step - loss: 0.0776 - accuracy: 0.9696 - val_loss: 2.1364 - val_accuracy: 0.6540\n",
            "Epoch 359/500\n",
            "119/119 [==============================] - 0s 1ms/step - loss: 0.0783 - accuracy: 0.9707 - val_loss: 2.1295 - val_accuracy: 0.6445\n",
            "Epoch 360/500\n",
            "119/119 [==============================] - 0s 1ms/step - loss: 0.0762 - accuracy: 0.9706 - val_loss: 2.0897 - val_accuracy: 0.6588\n",
            "Epoch 361/500\n",
            "119/119 [==============================] - 0s 2ms/step - loss: 0.0734 - accuracy: 0.9705 - val_loss: 2.0890 - val_accuracy: 0.6540\n",
            "Epoch 362/500\n",
            "119/119 [==============================] - 0s 1ms/step - loss: 0.0722 - accuracy: 0.9727 - val_loss: 2.0822 - val_accuracy: 0.6588\n",
            "Epoch 363/500\n",
            "119/119 [==============================] - 0s 2ms/step - loss: 0.2118 - accuracy: 0.9246 - val_loss: 2.4050 - val_accuracy: 0.5735\n",
            "Epoch 364/500\n",
            "119/119 [==============================] - 0s 2ms/step - loss: 0.5008 - accuracy: 0.8297 - val_loss: 1.9874 - val_accuracy: 0.6161\n",
            "Epoch 365/500\n",
            "119/119 [==============================] - 0s 1ms/step - loss: 0.2564 - accuracy: 0.9064 - val_loss: 1.9929 - val_accuracy: 0.6256\n",
            "Epoch 366/500\n",
            "119/119 [==============================] - 0s 2ms/step - loss: 0.1317 - accuracy: 0.9501 - val_loss: 2.2299 - val_accuracy: 0.6019\n",
            "Epoch 367/500\n",
            "119/119 [==============================] - 0s 2ms/step - loss: 0.1134 - accuracy: 0.9501 - val_loss: 2.0783 - val_accuracy: 0.6682\n",
            "Epoch 368/500\n",
            "119/119 [==============================] - 0s 1ms/step - loss: 0.0945 - accuracy: 0.9664 - val_loss: 2.0659 - val_accuracy: 0.6540\n",
            "Epoch 369/500\n",
            "119/119 [==============================] - 0s 1ms/step - loss: 0.0817 - accuracy: 0.9690 - val_loss: 2.1185 - val_accuracy: 0.6540\n",
            "Epoch 370/500\n",
            "119/119 [==============================] - 0s 1ms/step - loss: 0.0776 - accuracy: 0.9669 - val_loss: 2.0793 - val_accuracy: 0.6588\n",
            "Epoch 371/500\n",
            "119/119 [==============================] - 0s 2ms/step - loss: 0.0800 - accuracy: 0.9698 - val_loss: 2.1851 - val_accuracy: 0.6398\n",
            "Epoch 372/500\n",
            "119/119 [==============================] - 0s 2ms/step - loss: 0.0576 - accuracy: 0.9770 - val_loss: 2.1044 - val_accuracy: 0.6588\n",
            "Epoch 373/500\n",
            "119/119 [==============================] - 0s 2ms/step - loss: 0.0674 - accuracy: 0.9722 - val_loss: 2.1474 - val_accuracy: 0.6351\n",
            "Epoch 374/500\n",
            "119/119 [==============================] - 0s 2ms/step - loss: 0.0845 - accuracy: 0.9633 - val_loss: 2.1110 - val_accuracy: 0.6445\n",
            "Epoch 375/500\n",
            "119/119 [==============================] - 0s 2ms/step - loss: 0.0764 - accuracy: 0.9690 - val_loss: 2.1560 - val_accuracy: 0.6445\n",
            "Epoch 376/500\n",
            "119/119 [==============================] - 0s 2ms/step - loss: 0.0821 - accuracy: 0.9671 - val_loss: 2.1452 - val_accuracy: 0.6682\n",
            "Epoch 377/500\n",
            "119/119 [==============================] - 0s 2ms/step - loss: 0.0721 - accuracy: 0.9712 - val_loss: 2.1460 - val_accuracy: 0.6445\n",
            "Epoch 378/500\n",
            "119/119 [==============================] - 0s 1ms/step - loss: 0.0783 - accuracy: 0.9662 - val_loss: 2.1434 - val_accuracy: 0.6303\n",
            "Epoch 379/500\n",
            "119/119 [==============================] - 0s 2ms/step - loss: 0.0781 - accuracy: 0.9679 - val_loss: 2.1315 - val_accuracy: 0.6398\n",
            "Epoch 380/500\n",
            "119/119 [==============================] - 0s 2ms/step - loss: 0.0868 - accuracy: 0.9630 - val_loss: 2.2765 - val_accuracy: 0.6161\n",
            "Epoch 381/500\n",
            "119/119 [==============================] - 0s 1ms/step - loss: 0.2196 - accuracy: 0.9220 - val_loss: 2.1309 - val_accuracy: 0.5877\n",
            "Epoch 382/500\n",
            "119/119 [==============================] - 0s 2ms/step - loss: 0.6538 - accuracy: 0.7678 - val_loss: 1.8591 - val_accuracy: 0.6303\n",
            "Epoch 383/500\n",
            "119/119 [==============================] - 0s 2ms/step - loss: 0.3820 - accuracy: 0.8618 - val_loss: 1.8334 - val_accuracy: 0.6493\n",
            "Epoch 384/500\n",
            "119/119 [==============================] - 0s 2ms/step - loss: 0.2837 - accuracy: 0.9019 - val_loss: 1.8634 - val_accuracy: 0.6303\n",
            "Epoch 385/500\n",
            "119/119 [==============================] - 0s 1ms/step - loss: 0.1602 - accuracy: 0.9388 - val_loss: 2.0201 - val_accuracy: 0.6114\n",
            "Epoch 386/500\n",
            "119/119 [==============================] - 0s 1ms/step - loss: 0.1947 - accuracy: 0.9233 - val_loss: 2.1724 - val_accuracy: 0.6209\n",
            "Epoch 387/500\n",
            "119/119 [==============================] - 0s 1ms/step - loss: 0.2112 - accuracy: 0.9226 - val_loss: 2.2181 - val_accuracy: 0.6351\n",
            "Epoch 388/500\n",
            "119/119 [==============================] - 0s 1ms/step - loss: 0.1429 - accuracy: 0.9501 - val_loss: 2.3163 - val_accuracy: 0.6209\n",
            "Epoch 389/500\n",
            "119/119 [==============================] - 0s 2ms/step - loss: 0.1898 - accuracy: 0.9302 - val_loss: 2.2586 - val_accuracy: 0.6398\n",
            "Epoch 390/500\n",
            "119/119 [==============================] - 0s 2ms/step - loss: 0.1201 - accuracy: 0.9552 - val_loss: 2.1100 - val_accuracy: 0.6398\n",
            "Epoch 391/500\n",
            "119/119 [==============================] - 0s 2ms/step - loss: 0.0903 - accuracy: 0.9640 - val_loss: 2.1824 - val_accuracy: 0.6303\n",
            "Epoch 392/500\n",
            "119/119 [==============================] - 0s 1ms/step - loss: 0.0691 - accuracy: 0.9734 - val_loss: 2.1727 - val_accuracy: 0.6114\n",
            "Epoch 393/500\n",
            "119/119 [==============================] - 0s 1ms/step - loss: 0.0804 - accuracy: 0.9686 - val_loss: 2.2079 - val_accuracy: 0.6161\n",
            "Epoch 394/500\n",
            "119/119 [==============================] - 0s 1ms/step - loss: 0.0656 - accuracy: 0.9744 - val_loss: 2.2411 - val_accuracy: 0.6398\n",
            "Epoch 395/500\n",
            "119/119 [==============================] - 0s 2ms/step - loss: 0.0650 - accuracy: 0.9750 - val_loss: 2.2654 - val_accuracy: 0.6209\n",
            "Epoch 396/500\n",
            "119/119 [==============================] - 0s 2ms/step - loss: 0.0613 - accuracy: 0.9754 - val_loss: 2.2365 - val_accuracy: 0.6303\n",
            "Epoch 397/500\n",
            "119/119 [==============================] - 0s 1ms/step - loss: 0.0631 - accuracy: 0.9732 - val_loss: 2.2322 - val_accuracy: 0.6256\n",
            "Epoch 398/500\n",
            "119/119 [==============================] - 0s 2ms/step - loss: 0.0681 - accuracy: 0.9755 - val_loss: 2.2819 - val_accuracy: 0.6209\n",
            "Epoch 399/500\n",
            "119/119 [==============================] - 0s 2ms/step - loss: 0.0852 - accuracy: 0.9668 - val_loss: 2.2849 - val_accuracy: 0.6209\n",
            "Epoch 400/500\n",
            "119/119 [==============================] - 0s 1ms/step - loss: 0.0794 - accuracy: 0.9668 - val_loss: 2.2292 - val_accuracy: 0.6445\n",
            "Epoch 401/500\n",
            "119/119 [==============================] - 0s 2ms/step - loss: 0.0739 - accuracy: 0.9711 - val_loss: 2.3215 - val_accuracy: 0.6209\n",
            "Epoch 402/500\n",
            "119/119 [==============================] - 0s 1ms/step - loss: 0.0639 - accuracy: 0.9727 - val_loss: 2.3338 - val_accuracy: 0.6303\n",
            "Epoch 403/500\n",
            "119/119 [==============================] - 0s 2ms/step - loss: 0.0783 - accuracy: 0.9655 - val_loss: 2.3152 - val_accuracy: 0.6161\n",
            "Epoch 404/500\n",
            "119/119 [==============================] - 0s 1ms/step - loss: 0.0749 - accuracy: 0.9664 - val_loss: 2.3486 - val_accuracy: 0.6398\n",
            "Epoch 405/500\n",
            "119/119 [==============================] - 0s 1ms/step - loss: 0.0794 - accuracy: 0.9702 - val_loss: 2.5440 - val_accuracy: 0.6256\n",
            "Epoch 406/500\n",
            "119/119 [==============================] - 0s 2ms/step - loss: 0.6403 - accuracy: 0.8134 - val_loss: 1.7560 - val_accuracy: 0.6114\n",
            "Epoch 407/500\n",
            "119/119 [==============================] - 0s 1ms/step - loss: 0.4113 - accuracy: 0.8616 - val_loss: 1.7916 - val_accuracy: 0.6209\n",
            "Epoch 408/500\n",
            "119/119 [==============================] - 0s 1ms/step - loss: 0.3078 - accuracy: 0.8826 - val_loss: 1.8644 - val_accuracy: 0.6161\n",
            "Epoch 409/500\n",
            "119/119 [==============================] - 0s 2ms/step - loss: 0.2030 - accuracy: 0.9205 - val_loss: 2.1223 - val_accuracy: 0.6493\n",
            "Epoch 410/500\n",
            "119/119 [==============================] - 0s 1ms/step - loss: 0.1741 - accuracy: 0.9306 - val_loss: 2.0356 - val_accuracy: 0.6351\n",
            "Epoch 411/500\n",
            "119/119 [==============================] - 0s 1ms/step - loss: 0.1287 - accuracy: 0.9494 - val_loss: 2.1669 - val_accuracy: 0.6398\n",
            "Epoch 412/500\n",
            "119/119 [==============================] - 0s 1ms/step - loss: 0.1451 - accuracy: 0.9455 - val_loss: 2.1153 - val_accuracy: 0.6303\n",
            "Epoch 413/500\n",
            "119/119 [==============================] - 0s 2ms/step - loss: 0.1171 - accuracy: 0.9544 - val_loss: 2.1111 - val_accuracy: 0.6114\n",
            "Epoch 414/500\n",
            "119/119 [==============================] - 0s 1ms/step - loss: 0.1190 - accuracy: 0.9589 - val_loss: 1.9696 - val_accuracy: 0.6445\n",
            "Epoch 415/500\n",
            "119/119 [==============================] - 0s 1ms/step - loss: 0.2074 - accuracy: 0.9236 - val_loss: 2.1351 - val_accuracy: 0.5972\n",
            "Epoch 416/500\n",
            "119/119 [==============================] - 0s 1ms/step - loss: 0.1797 - accuracy: 0.9271 - val_loss: 2.1420 - val_accuracy: 0.6161\n",
            "Epoch 417/500\n",
            "119/119 [==============================] - 0s 2ms/step - loss: 0.2593 - accuracy: 0.9101 - val_loss: 2.0385 - val_accuracy: 0.6256\n",
            "Epoch 418/500\n",
            "119/119 [==============================] - 0s 1ms/step - loss: 0.2847 - accuracy: 0.9018 - val_loss: 2.1039 - val_accuracy: 0.6114\n",
            "Epoch 419/500\n",
            "119/119 [==============================] - 0s 2ms/step - loss: 0.1888 - accuracy: 0.9277 - val_loss: 2.0789 - val_accuracy: 0.6114\n",
            "Epoch 420/500\n",
            "119/119 [==============================] - 0s 2ms/step - loss: 0.1177 - accuracy: 0.9555 - val_loss: 2.1526 - val_accuracy: 0.6114\n",
            "Epoch 421/500\n",
            "119/119 [==============================] - 0s 2ms/step - loss: 0.1088 - accuracy: 0.9596 - val_loss: 2.1782 - val_accuracy: 0.6256\n",
            "Epoch 422/500\n",
            "119/119 [==============================] - 0s 2ms/step - loss: 0.0974 - accuracy: 0.9638 - val_loss: 2.0406 - val_accuracy: 0.6351\n",
            "Epoch 423/500\n",
            "119/119 [==============================] - 0s 2ms/step - loss: 0.0698 - accuracy: 0.9762 - val_loss: 2.0381 - val_accuracy: 0.6351\n",
            "Epoch 424/500\n",
            "119/119 [==============================] - 0s 2ms/step - loss: 0.0892 - accuracy: 0.9660 - val_loss: 2.0565 - val_accuracy: 0.6540\n",
            "Epoch 425/500\n",
            "119/119 [==============================] - 0s 1ms/step - loss: 0.0850 - accuracy: 0.9677 - val_loss: 2.0887 - val_accuracy: 0.6588\n",
            "Epoch 426/500\n",
            "119/119 [==============================] - 0s 2ms/step - loss: 0.0876 - accuracy: 0.9657 - val_loss: 2.3130 - val_accuracy: 0.6161\n",
            "Epoch 427/500\n",
            "119/119 [==============================] - 0s 2ms/step - loss: 0.1151 - accuracy: 0.9557 - val_loss: 2.0367 - val_accuracy: 0.6445\n",
            "Epoch 428/500\n",
            "119/119 [==============================] - 0s 2ms/step - loss: 0.1932 - accuracy: 0.9331 - val_loss: 2.0414 - val_accuracy: 0.6398\n",
            "Epoch 429/500\n",
            "119/119 [==============================] - 0s 2ms/step - loss: 0.2903 - accuracy: 0.8978 - val_loss: 2.2851 - val_accuracy: 0.6066\n",
            "Epoch 430/500\n",
            "119/119 [==============================] - 0s 2ms/step - loss: 0.2139 - accuracy: 0.9135 - val_loss: 1.9169 - val_accuracy: 0.6398\n",
            "Epoch 431/500\n",
            "119/119 [==============================] - 0s 2ms/step - loss: 0.2758 - accuracy: 0.9045 - val_loss: 2.0428 - val_accuracy: 0.6303\n",
            "Epoch 432/500\n",
            "119/119 [==============================] - 0s 2ms/step - loss: 0.0938 - accuracy: 0.9679 - val_loss: 2.0340 - val_accuracy: 0.6398\n",
            "Epoch 433/500\n",
            "119/119 [==============================] - 0s 2ms/step - loss: 0.0815 - accuracy: 0.9692 - val_loss: 2.0868 - val_accuracy: 0.6351\n",
            "Epoch 434/500\n",
            "119/119 [==============================] - 0s 2ms/step - loss: 0.0796 - accuracy: 0.9698 - val_loss: 2.1101 - val_accuracy: 0.6398\n",
            "Epoch 435/500\n",
            "119/119 [==============================] - 0s 2ms/step - loss: 0.0743 - accuracy: 0.9708 - val_loss: 2.1551 - val_accuracy: 0.6303\n",
            "Epoch 436/500\n",
            "119/119 [==============================] - 0s 2ms/step - loss: 0.0790 - accuracy: 0.9706 - val_loss: 2.1554 - val_accuracy: 0.6256\n",
            "Epoch 437/500\n",
            "119/119 [==============================] - 0s 2ms/step - loss: 0.0704 - accuracy: 0.9752 - val_loss: 2.1219 - val_accuracy: 0.6256\n",
            "Epoch 438/500\n",
            "119/119 [==============================] - 0s 2ms/step - loss: 0.0826 - accuracy: 0.9658 - val_loss: 2.1730 - val_accuracy: 0.6351\n",
            "Epoch 439/500\n",
            "119/119 [==============================] - 0s 2ms/step - loss: 0.0863 - accuracy: 0.9612 - val_loss: 2.1717 - val_accuracy: 0.6493\n",
            "Epoch 440/500\n",
            "119/119 [==============================] - 0s 2ms/step - loss: 0.0726 - accuracy: 0.9784 - val_loss: 2.1485 - val_accuracy: 0.6445\n",
            "Epoch 441/500\n",
            "119/119 [==============================] - 0s 2ms/step - loss: 0.0788 - accuracy: 0.9705 - val_loss: 2.0640 - val_accuracy: 0.6351\n",
            "Epoch 442/500\n",
            "119/119 [==============================] - 0s 1ms/step - loss: 0.0853 - accuracy: 0.9700 - val_loss: 2.3855 - val_accuracy: 0.6209\n",
            "Epoch 443/500\n",
            "119/119 [==============================] - 0s 2ms/step - loss: 0.4507 - accuracy: 0.8615 - val_loss: 2.5311 - val_accuracy: 0.5735\n",
            "Epoch 444/500\n",
            "119/119 [==============================] - 0s 2ms/step - loss: 0.3980 - accuracy: 0.8651 - val_loss: 2.1481 - val_accuracy: 0.6114\n",
            "Epoch 445/500\n",
            "119/119 [==============================] - 0s 2ms/step - loss: 0.1964 - accuracy: 0.9267 - val_loss: 2.2204 - val_accuracy: 0.6303\n",
            "Epoch 446/500\n",
            "119/119 [==============================] - 0s 2ms/step - loss: 0.2217 - accuracy: 0.9295 - val_loss: 2.2146 - val_accuracy: 0.6019\n",
            "Epoch 447/500\n",
            "119/119 [==============================] - 0s 2ms/step - loss: 0.1771 - accuracy: 0.9350 - val_loss: 2.2332 - val_accuracy: 0.6114\n",
            "Epoch 448/500\n",
            "119/119 [==============================] - 0s 2ms/step - loss: 0.1089 - accuracy: 0.9622 - val_loss: 2.1943 - val_accuracy: 0.6209\n",
            "Epoch 449/500\n",
            "119/119 [==============================] - 0s 2ms/step - loss: 0.0873 - accuracy: 0.9690 - val_loss: 2.1203 - val_accuracy: 0.6209\n",
            "Epoch 450/500\n",
            "119/119 [==============================] - 0s 2ms/step - loss: 0.0994 - accuracy: 0.9617 - val_loss: 2.1275 - val_accuracy: 0.6256\n",
            "Epoch 451/500\n",
            "119/119 [==============================] - 0s 2ms/step - loss: 0.1055 - accuracy: 0.9602 - val_loss: 2.1413 - val_accuracy: 0.6351\n",
            "Epoch 452/500\n",
            "119/119 [==============================] - 0s 1ms/step - loss: 0.0867 - accuracy: 0.9653 - val_loss: 2.1188 - val_accuracy: 0.6398\n",
            "Epoch 453/500\n",
            "119/119 [==============================] - 0s 1ms/step - loss: 0.1077 - accuracy: 0.9665 - val_loss: 2.1960 - val_accuracy: 0.6114\n",
            "Epoch 454/500\n",
            "119/119 [==============================] - 0s 1ms/step - loss: 0.1026 - accuracy: 0.9567 - val_loss: 2.1361 - val_accuracy: 0.6303\n",
            "Epoch 455/500\n",
            "119/119 [==============================] - 0s 2ms/step - loss: 0.0900 - accuracy: 0.9605 - val_loss: 2.1476 - val_accuracy: 0.6493\n",
            "Epoch 456/500\n",
            "119/119 [==============================] - 0s 2ms/step - loss: 0.0779 - accuracy: 0.9710 - val_loss: 2.2358 - val_accuracy: 0.6445\n",
            "Epoch 457/500\n",
            "119/119 [==============================] - 0s 2ms/step - loss: 0.0595 - accuracy: 0.9761 - val_loss: 2.1962 - val_accuracy: 0.6209\n",
            "Epoch 458/500\n",
            "119/119 [==============================] - 0s 2ms/step - loss: 0.0666 - accuracy: 0.9739 - val_loss: 2.2045 - val_accuracy: 0.6540\n",
            "Epoch 459/500\n",
            "119/119 [==============================] - 0s 2ms/step - loss: 0.0733 - accuracy: 0.9704 - val_loss: 2.2305 - val_accuracy: 0.6445\n",
            "Epoch 460/500\n",
            "119/119 [==============================] - 0s 2ms/step - loss: 0.0662 - accuracy: 0.9733 - val_loss: 2.2624 - val_accuracy: 0.6303\n",
            "Epoch 461/500\n",
            "119/119 [==============================] - 0s 2ms/step - loss: 0.0916 - accuracy: 0.9622 - val_loss: 2.2228 - val_accuracy: 0.6303\n",
            "Epoch 462/500\n",
            "119/119 [==============================] - 0s 2ms/step - loss: 0.0821 - accuracy: 0.9704 - val_loss: 2.2375 - val_accuracy: 0.6066\n",
            "Epoch 463/500\n",
            "119/119 [==============================] - 0s 2ms/step - loss: 0.0827 - accuracy: 0.9659 - val_loss: 2.2404 - val_accuracy: 0.6540\n",
            "Epoch 464/500\n",
            "119/119 [==============================] - 0s 2ms/step - loss: 0.4947 - accuracy: 0.8460 - val_loss: 1.7406 - val_accuracy: 0.5640\n",
            "Epoch 465/500\n",
            "119/119 [==============================] - 0s 2ms/step - loss: 0.4217 - accuracy: 0.8385 - val_loss: 2.0471 - val_accuracy: 0.6256\n",
            "Epoch 466/500\n",
            "119/119 [==============================] - 0s 2ms/step - loss: 0.3960 - accuracy: 0.8589 - val_loss: 2.0402 - val_accuracy: 0.5972\n",
            "Epoch 467/500\n",
            "119/119 [==============================] - 0s 2ms/step - loss: 0.2502 - accuracy: 0.8982 - val_loss: 2.1906 - val_accuracy: 0.6114\n",
            "Epoch 468/500\n",
            "119/119 [==============================] - 0s 2ms/step - loss: 0.2182 - accuracy: 0.9194 - val_loss: 2.1708 - val_accuracy: 0.5829\n",
            "Epoch 469/500\n",
            "119/119 [==============================] - 0s 2ms/step - loss: 0.3425 - accuracy: 0.8747 - val_loss: 1.8336 - val_accuracy: 0.6540\n",
            "Epoch 470/500\n",
            "119/119 [==============================] - 0s 2ms/step - loss: 0.2076 - accuracy: 0.9180 - val_loss: 2.0353 - val_accuracy: 0.6540\n",
            "Epoch 471/500\n",
            "119/119 [==============================] - 0s 2ms/step - loss: 0.1662 - accuracy: 0.9433 - val_loss: 2.1048 - val_accuracy: 0.6256\n",
            "Epoch 472/500\n",
            "119/119 [==============================] - 0s 2ms/step - loss: 0.1772 - accuracy: 0.9356 - val_loss: 2.2941 - val_accuracy: 0.6209\n",
            "Epoch 473/500\n",
            "119/119 [==============================] - 0s 2ms/step - loss: 0.1667 - accuracy: 0.9355 - val_loss: 2.1651 - val_accuracy: 0.6209\n",
            "Epoch 474/500\n",
            "119/119 [==============================] - 0s 2ms/step - loss: 0.1714 - accuracy: 0.9362 - val_loss: 2.1609 - val_accuracy: 0.6303\n",
            "Epoch 475/500\n",
            "119/119 [==============================] - 0s 2ms/step - loss: 0.1879 - accuracy: 0.9319 - val_loss: 1.9339 - val_accuracy: 0.6398\n",
            "Epoch 476/500\n",
            "119/119 [==============================] - 0s 2ms/step - loss: 0.1336 - accuracy: 0.9535 - val_loss: 2.1674 - val_accuracy: 0.6161\n",
            "Epoch 477/500\n",
            "119/119 [==============================] - 0s 2ms/step - loss: 0.1062 - accuracy: 0.9573 - val_loss: 2.1677 - val_accuracy: 0.6066\n",
            "Epoch 478/500\n",
            "119/119 [==============================] - 0s 2ms/step - loss: 0.0760 - accuracy: 0.9716 - val_loss: 2.2300 - val_accuracy: 0.6066\n",
            "Epoch 479/500\n",
            "119/119 [==============================] - 0s 2ms/step - loss: 0.0800 - accuracy: 0.9699 - val_loss: 2.2796 - val_accuracy: 0.6303\n",
            "Epoch 480/500\n",
            "119/119 [==============================] - 0s 2ms/step - loss: 0.1052 - accuracy: 0.9609 - val_loss: 2.3017 - val_accuracy: 0.6019\n",
            "Epoch 481/500\n",
            "119/119 [==============================] - 0s 2ms/step - loss: 0.0857 - accuracy: 0.9669 - val_loss: 2.2809 - val_accuracy: 0.6209\n",
            "Epoch 482/500\n",
            "119/119 [==============================] - 0s 2ms/step - loss: 0.1062 - accuracy: 0.9568 - val_loss: 2.1866 - val_accuracy: 0.6019\n",
            "Epoch 483/500\n",
            "119/119 [==============================] - 0s 2ms/step - loss: 0.1579 - accuracy: 0.9418 - val_loss: 2.1176 - val_accuracy: 0.6209\n",
            "Epoch 484/500\n",
            "119/119 [==============================] - 0s 1ms/step - loss: 0.0889 - accuracy: 0.9706 - val_loss: 2.4097 - val_accuracy: 0.6114\n",
            "Epoch 485/500\n",
            "119/119 [==============================] - 0s 2ms/step - loss: 0.1152 - accuracy: 0.9561 - val_loss: 2.2035 - val_accuracy: 0.6114\n",
            "Epoch 486/500\n",
            "119/119 [==============================] - 0s 2ms/step - loss: 0.3835 - accuracy: 0.8692 - val_loss: 2.2234 - val_accuracy: 0.5782\n",
            "Epoch 487/500\n",
            "119/119 [==============================] - 0s 2ms/step - loss: 0.2317 - accuracy: 0.9138 - val_loss: 2.0018 - val_accuracy: 0.6066\n",
            "Epoch 488/500\n",
            "119/119 [==============================] - 0s 1ms/step - loss: 0.2589 - accuracy: 0.9110 - val_loss: 2.0973 - val_accuracy: 0.5782\n",
            "Epoch 489/500\n",
            "119/119 [==============================] - 0s 2ms/step - loss: 0.1594 - accuracy: 0.9345 - val_loss: 2.2674 - val_accuracy: 0.6019\n",
            "Epoch 490/500\n",
            "119/119 [==============================] - 0s 2ms/step - loss: 0.2019 - accuracy: 0.9251 - val_loss: 1.9248 - val_accuracy: 0.6303\n",
            "Epoch 491/500\n",
            "119/119 [==============================] - 0s 2ms/step - loss: 0.2752 - accuracy: 0.9059 - val_loss: 2.3380 - val_accuracy: 0.5877\n",
            "Epoch 492/500\n",
            "119/119 [==============================] - 0s 2ms/step - loss: 0.1281 - accuracy: 0.9526 - val_loss: 2.1362 - val_accuracy: 0.6351\n",
            "Epoch 493/500\n",
            "119/119 [==============================] - 0s 2ms/step - loss: 0.1045 - accuracy: 0.9571 - val_loss: 2.1840 - val_accuracy: 0.6161\n",
            "Epoch 494/500\n",
            "119/119 [==============================] - 0s 2ms/step - loss: 0.1181 - accuracy: 0.9566 - val_loss: 2.2008 - val_accuracy: 0.6114\n",
            "Epoch 495/500\n",
            "119/119 [==============================] - 0s 1ms/step - loss: 0.1128 - accuracy: 0.9615 - val_loss: 2.2820 - val_accuracy: 0.6019\n",
            "Epoch 496/500\n",
            "119/119 [==============================] - 0s 2ms/step - loss: 0.1974 - accuracy: 0.9242 - val_loss: 2.3155 - val_accuracy: 0.6019\n",
            "Epoch 497/500\n",
            "119/119 [==============================] - 0s 2ms/step - loss: 0.1233 - accuracy: 0.9539 - val_loss: 2.1886 - val_accuracy: 0.6493\n",
            "Epoch 498/500\n",
            "119/119 [==============================] - 0s 2ms/step - loss: 0.1126 - accuracy: 0.9583 - val_loss: 2.1149 - val_accuracy: 0.6066\n",
            "Epoch 499/500\n",
            "119/119 [==============================] - 0s 2ms/step - loss: 0.1015 - accuracy: 0.9594 - val_loss: 2.1773 - val_accuracy: 0.5924\n",
            "Epoch 500/500\n",
            "119/119 [==============================] - 0s 2ms/step - loss: 0.0988 - accuracy: 0.9668 - val_loss: 2.0478 - val_accuracy: 0.6303\n"
          ]
        },
        {
          "data": {
            "text/plain": [
              "<tensorflow.python.keras.callbacks.History at 0x2b88eea4cd0>"
            ]
          },
          "execution_count": 36,
          "metadata": {},
          "output_type": "execute_result"
        }
      ],
      "source": [
        "model.compile(loss='sparse_categorical_crossentropy', optimizer='adam', metrics='accuracy')\n",
        "model.fit(X_train, y_train, validation_split=0.1, batch_size=16, epochs=500)"
      ]
    },
    {
      "cell_type": "code",
      "execution_count": null,
      "metadata": {
        "id": "cmTz5Ejg_lWx",
        "outputId": "e050fb64-12c4-4926-8a66-e2291e7fd230"
      },
      "outputs": [
        {
          "name": "stdout",
          "output_type": "stream",
          "text": [
            "Evaluating on the test data\n",
            "27/27 [==============================] - 0s 1ms/step - loss: 2.4268 - accuracy: 0.6350\n",
            "test loss, test acc: [2.4267871379852295, 0.6349809765815735]\n"
          ]
        }
      ],
      "source": [
        "print(\"Evaluating on the test data\")\n",
        "results = model.evaluate(X_test, y_test, batch_size=20)\n",
        "print(\"test loss, test acc:\", results)"
      ]
    },
    {
      "cell_type": "markdown",
      "metadata": {
        "id": "yxjHLbbt_lWx"
      },
      "source": [
        "### Seems like our model doesn't really improve, and get's stuch around the 64% mark. We'll try a CNN network which are known to work with Speech recognision problems:"
      ]
    },
    {
      "cell_type": "markdown",
      "metadata": {
        "id": "r5qp2YJ1_lWx"
      },
      "source": [
        "### First we'll add another dimension to our data in order for it to fit the model:"
      ]
    },
    {
      "cell_type": "code",
      "execution_count": null,
      "metadata": {
        "id": "hzeMGT_E_lWx"
      },
      "outputs": [],
      "source": [
        "x_train_new = np.expand_dims(X_train, axis=2)\n",
        "x_test_new = np.expand_dims(X_test, axis=2)"
      ]
    },
    {
      "cell_type": "code",
      "execution_count": null,
      "metadata": {
        "id": "HWJf1rxD_lWx",
        "outputId": "c4bef866-aa0e-4e1e-e081-5486a9953657"
      },
      "outputs": [
        {
          "data": {
            "text/plain": [
              "((2102, 40, 1), (526, 40, 1))"
            ]
          },
          "execution_count": 62,
          "metadata": {},
          "output_type": "execute_result"
        }
      ],
      "source": [
        "x_train_new.shape, x_test_new.shape"
      ]
    },
    {
      "cell_type": "code",
      "execution_count": null,
      "metadata": {
        "id": "k_RPoK1Z_lWx"
      },
      "outputs": [],
      "source": [
        "model2 = Sequential(\n",
        "    [\n",
        "     layers.Conv1D(128, 3, activation='relu', input_shape=(40,1)),\n",
        "     layers.MaxPooling1D(),\n",
        "     layers.Conv1D(128, 3, activation='relu'),\n",
        "     layers.MaxPooling1D(),\n",
        "     layers.Conv1D(128, 3, activation='relu'),\n",
        "     layers.MaxPooling1D(),\n",
        "     layers.Flatten(),\n",
        "     layers.Dense(64, activation=\"relu\"),\n",
        "     layers.Dense(8, activation=\"softmax\")\n",
        "    ]\n",
        ")\n"
      ]
    },
    {
      "cell_type": "code",
      "execution_count": null,
      "metadata": {
        "id": "u3wGNCUk_lWy",
        "outputId": "7aa5ef7d-6ef2-4d19-9f0b-6b3547b996a6"
      },
      "outputs": [
        {
          "data": {
            "text/plain": [
              "((None, 40, 1), TensorShape([None, 8]))"
            ]
          },
          "execution_count": 85,
          "metadata": {},
          "output_type": "execute_result"
        }
      ],
      "source": [
        "model2.input_shape, model2.output.shape"
      ]
    },
    {
      "cell_type": "code",
      "execution_count": null,
      "metadata": {
        "id": "7yGn2wK-_lWy",
        "outputId": "7160782f-6790-4dae-f6b5-c9d80e35b875"
      },
      "outputs": [
        {
          "name": "stdout",
          "output_type": "stream",
          "text": [
            "Model: \"sequential_20\"\n",
            "_________________________________________________________________\n",
            "Layer (type)                 Output Shape              Param #   \n",
            "=================================================================\n",
            "conv1d_22 (Conv1D)           (None, 38, 128)           512       \n",
            "_________________________________________________________________\n",
            "max_pooling1d_9 (MaxPooling1 (None, 19, 128)           0         \n",
            "_________________________________________________________________\n",
            "conv1d_23 (Conv1D)           (None, 17, 128)           49280     \n",
            "_________________________________________________________________\n",
            "max_pooling1d_10 (MaxPooling (None, 8, 128)            0         \n",
            "_________________________________________________________________\n",
            "conv1d_24 (Conv1D)           (None, 6, 128)            49280     \n",
            "_________________________________________________________________\n",
            "max_pooling1d_11 (MaxPooling (None, 3, 128)            0         \n",
            "_________________________________________________________________\n",
            "flatten_19 (Flatten)         (None, 384)               0         \n",
            "_________________________________________________________________\n",
            "dense_42 (Dense)             (None, 64)                24640     \n",
            "_________________________________________________________________\n",
            "dense_43 (Dense)             (None, 8)                 520       \n",
            "=================================================================\n",
            "Total params: 124,232\n",
            "Trainable params: 124,232\n",
            "Non-trainable params: 0\n",
            "_________________________________________________________________\n"
          ]
        }
      ],
      "source": [
        "model2.summary()"
      ]
    },
    {
      "cell_type": "code",
      "execution_count": null,
      "metadata": {
        "id": "SvFoXl5n_lWy",
        "outputId": "462f62a1-cbbd-4ef4-b1c3-cf1b19feb071"
      },
      "outputs": [
        {
          "name": "stdout",
          "output_type": "stream",
          "text": [
            "Epoch 1/10\n",
            "119/119 [==============================] - 1s 7ms/step - loss: 0.1209 - accuracy: 0.9524 - val_loss: 1.9974 - val_accuracy: 0.6635\n",
            "Epoch 2/10\n",
            "119/119 [==============================] - 1s 5ms/step - loss: 0.1593 - accuracy: 0.9325 - val_loss: 1.8278 - val_accuracy: 0.6777\n",
            "Epoch 3/10\n",
            "119/119 [==============================] - 1s 5ms/step - loss: 0.2298 - accuracy: 0.9258 - val_loss: 1.7046 - val_accuracy: 0.6588\n",
            "Epoch 4/10\n",
            "119/119 [==============================] - 1s 5ms/step - loss: 0.0818 - accuracy: 0.9688 - val_loss: 1.8895 - val_accuracy: 0.6825\n",
            "Epoch 5/10\n",
            "119/119 [==============================] - 1s 5ms/step - loss: 0.0806 - accuracy: 0.9666 - val_loss: 1.7779 - val_accuracy: 0.7156\n",
            "Epoch 6/10\n",
            "119/119 [==============================] - 1s 5ms/step - loss: 0.0807 - accuracy: 0.9649 - val_loss: 1.7603 - val_accuracy: 0.7156\n",
            "Epoch 7/10\n",
            "119/119 [==============================] - 1s 5ms/step - loss: 0.0647 - accuracy: 0.9711 - val_loss: 1.7878 - val_accuracy: 0.7109\n",
            "Epoch 8/10\n",
            "119/119 [==============================] - 1s 5ms/step - loss: 0.0730 - accuracy: 0.9694 - val_loss: 1.8292 - val_accuracy: 0.7014\n",
            "Epoch 9/10\n",
            "119/119 [==============================] - 1s 5ms/step - loss: 0.0646 - accuracy: 0.9736 - val_loss: 1.8240 - val_accuracy: 0.7156\n",
            "Epoch 10/10\n",
            "119/119 [==============================] - 1s 5ms/step - loss: 0.0869 - accuracy: 0.9631 - val_loss: 1.8276 - val_accuracy: 0.7062\n"
          ]
        },
        {
          "data": {
            "text/plain": [
              "<tensorflow.python.keras.callbacks.History at 0x2b88ed46070>"
            ]
          },
          "execution_count": 92,
          "metadata": {},
          "output_type": "execute_result"
        }
      ],
      "source": [
        "model2.compile(loss='sparse_categorical_crossentropy', optimizer='adam', metrics='accuracy')\n",
        "model2.fit(x_train_new, y_train, validation_split=0.1, batch_size=16, epochs=10)"
      ]
    },
    {
      "cell_type": "code",
      "execution_count": null,
      "metadata": {
        "id": "lPfiYDRA_lWy",
        "outputId": "c57b5271-e075-48ff-f949-b0e661369bc9"
      },
      "outputs": [
        {
          "name": "stdout",
          "output_type": "stream",
          "text": [
            "Evaluating on the test data\n",
            "6/6 [==============================] - 0s 5ms/step - loss: 1.8146 - accuracy: 0.6958\n",
            "test loss, test acc: [1.8145948648452759, 0.6958174705505371]\n"
          ]
        }
      ],
      "source": [
        "print(\"Evaluating on the test data\")\n",
        "results = model2.evaluate(x_test_new, y_test, batch_size=100)\n",
        "print(\"test loss, test acc:\", results)"
      ]
    }
  ],
  "metadata": {
    "kernelspec": {
      "display_name": "Python 3",
      "language": "python",
      "name": "python3"
    },
    "language_info": {
      "codemirror_mode": {
        "name": "ipython",
        "version": 3
      },
      "file_extension": ".py",
      "mimetype": "text/x-python",
      "name": "python",
      "nbconvert_exporter": "python",
      "pygments_lexer": "ipython3",
      "version": "3.8.3"
    },
    "colab": {
      "provenance": []
    }
  },
  "nbformat": 4,
  "nbformat_minor": 0
}